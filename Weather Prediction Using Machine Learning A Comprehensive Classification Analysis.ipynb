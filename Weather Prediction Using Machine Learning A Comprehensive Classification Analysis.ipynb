{
 "cells": [
  {
   "cell_type": "markdown",
   "id": "73045a9e-4e1f-43e7-a7f4-66e511731e2c",
   "metadata": {},
   "source": [
    "# Project : Rain Prediction in Australia"
   ]
  },
  {
   "cell_type": "markdown",
   "id": "4b11c18a-a6fd-414d-b2ca-d23e2fcea943",
   "metadata": {},
   "source": [
    "## Weather Prediction Using Machine Learning: A Comprehensive Classification Analysis"
   ]
  },
  {
   "cell_type": "markdown",
   "id": "d43f382a-ecc6-4062-9074-66150efca75e",
   "metadata": {},
   "source": [
    "### This project employs various classification algorithms—including Linear Regression, KNN, Decision Trees, Logistic Regression, and SVM—to predict weather conditions based on historical data. By evaluating model performance through accuracy, Jaccard Index, F1-Score, and LogLoss, we aim to identify the most effective approach for forecasting rain tomorrow."
   ]
  },
  {
   "cell_type": "code",
   "execution_count": 1,
   "id": "85658eb9-8672-401b-a692-0877f330cf91",
   "metadata": {},
   "outputs": [],
   "source": [
    "# Surpress warnings:\n",
    "def warn(*args, **kwargs):\n",
    "    pass\n",
    "import warnings\n",
    "warnings.warn = warn"
   ]
  },
  {
   "cell_type": "code",
   "execution_count": 5,
   "id": "d16765fe-06bc-4de6-abac-7ba92cc7b155",
   "metadata": {},
   "outputs": [],
   "source": [
    "import pandas as pd\n",
    "from sklearn.linear_model import LogisticRegression\n",
    "from sklearn.linear_model import LinearRegression\n",
    "from sklearn import preprocessing\n",
    "import numpy as np\n",
    "from sklearn.neighbors import KNeighborsClassifier\n",
    "from sklearn.model_selection import train_test_split\n",
    "from sklearn.neighbors import KNeighborsClassifier\n",
    "from sklearn.tree import DecisionTreeClassifier\n",
    "from sklearn import svm\n",
    "from sklearn.metrics import jaccard_score\n",
    "from sklearn.metrics import f1_score\n",
    "from sklearn.metrics import log_loss\n",
    "from sklearn.metrics import confusion_matrix, accuracy_score\n",
    "import sklearn.metrics as metrics"
   ]
  },
  {
   "cell_type": "markdown",
   "id": "b71f9b8c-caf9-4e00-b826-b271ddfeb999",
   "metadata": {},
   "source": [
    "## Importing the Dataset"
   ]
  },
  {
   "cell_type": "code",
   "execution_count": 7,
   "id": "824fac9b-4e10-4213-ba2f-64627b1a3bd4",
   "metadata": {},
   "outputs": [
    {
     "name": "stdout",
     "output_type": "stream",
     "text": [
      "       Date  MinTemp  MaxTemp  Rainfall  Evaporation  Sunshine WindGustDir  \\\n",
      "0  2/1/2008     19.5     22.4      15.6          6.2       0.0           W   \n",
      "1  2/2/2008     19.5     25.6       6.0          3.4       2.7           W   \n",
      "2  2/3/2008     21.6     24.5       6.6          2.4       0.1           W   \n",
      "3  2/4/2008     20.2     22.8      18.8          2.2       0.0           W   \n",
      "4  2/5/2008     19.7     25.7      77.4          4.8       0.0           W   \n",
      "\n",
      "   WindGustSpeed WindDir9am WindDir3pm  ...  Humidity9am  Humidity3pm  \\\n",
      "0             41          S        SSW  ...           92           84   \n",
      "1             41          W          E  ...           83           73   \n",
      "2             41        ESE        ESE  ...           88           86   \n",
      "3             41        NNE          E  ...           83           90   \n",
      "4             41        NNE          W  ...           88           74   \n",
      "\n",
      "   Pressure9am  Pressure3pm  Cloud9am  Cloud3pm  Temp9am  Temp3pm  RainToday  \\\n",
      "0       1017.6       1017.4         8         8     20.7     20.9        Yes   \n",
      "1       1017.9       1016.4         7         7     22.4     24.8        Yes   \n",
      "2       1016.7       1015.6         7         8     23.5     23.0        Yes   \n",
      "3       1014.2       1011.8         8         8     21.4     20.9        Yes   \n",
      "4       1008.3       1004.8         8         8     22.5     25.5        Yes   \n",
      "\n",
      "   RainTomorrow  \n",
      "0           Yes  \n",
      "1           Yes  \n",
      "2           Yes  \n",
      "3           Yes  \n",
      "4           Yes  \n",
      "\n",
      "[5 rows x 22 columns]\n"
     ]
    }
   ],
   "source": [
    "import pandas as pd\n",
    "\n",
    "# Define the URL\n",
    "url = \"https://cf-courses-data.s3.us.cloud-object-storage.appdomain.cloud/IBMDeveloperSkillsNetwork-ML0101EN-SkillUp/labs/ML-FinalAssignment/Weather_Data.csv\"\n",
    "\n",
    "# Load the dataset directly into a DataFrame\n",
    "df = pd.read_csv(url)\n",
    "\n",
    "# Display the first few rows of the DataFrame\n",
    "print(df.head())\n"
   ]
  },
  {
   "cell_type": "code",
   "execution_count": 9,
   "id": "fc5a9998-a7b6-4f58-a5b1-ee085578a9e6",
   "metadata": {},
   "outputs": [],
   "source": [
    "#from pyodide.http import pyfetch\n",
    "\n",
    "#async def download(url, filename):\n",
    "#   response = await pyfetch(url)\n",
    "#    if response.status == 200:\n",
    "#        with open(filename, \"wb\") as f:\n",
    "#            f.write(await response.bytes())\n",
    "            "
   ]
  },
  {
   "cell_type": "code",
   "execution_count": 12,
   "id": "4aee3b07-a017-4ff3-9b54-b08bb9b1f2fa",
   "metadata": {},
   "outputs": [],
   "source": [
    "#await download(path, \"Weather_Data.csv\")\n",
    "#filename =\"Weather_Data.csv\""
   ]
  },
  {
   "cell_type": "code",
   "execution_count": 13,
   "id": "bab2bbdf-38d4-43e2-9387-2a3e8c0da0e9",
   "metadata": {},
   "outputs": [
    {
     "data": {
      "text/html": [
       "<div>\n",
       "<style scoped>\n",
       "    .dataframe tbody tr th:only-of-type {\n",
       "        vertical-align: middle;\n",
       "    }\n",
       "\n",
       "    .dataframe tbody tr th {\n",
       "        vertical-align: top;\n",
       "    }\n",
       "\n",
       "    .dataframe thead th {\n",
       "        text-align: right;\n",
       "    }\n",
       "</style>\n",
       "<table border=\"1\" class=\"dataframe\">\n",
       "  <thead>\n",
       "    <tr style=\"text-align: right;\">\n",
       "      <th></th>\n",
       "      <th>Date</th>\n",
       "      <th>MinTemp</th>\n",
       "      <th>MaxTemp</th>\n",
       "      <th>Rainfall</th>\n",
       "      <th>Evaporation</th>\n",
       "      <th>Sunshine</th>\n",
       "      <th>WindGustDir</th>\n",
       "      <th>WindGustSpeed</th>\n",
       "      <th>WindDir9am</th>\n",
       "      <th>WindDir3pm</th>\n",
       "      <th>...</th>\n",
       "      <th>Humidity9am</th>\n",
       "      <th>Humidity3pm</th>\n",
       "      <th>Pressure9am</th>\n",
       "      <th>Pressure3pm</th>\n",
       "      <th>Cloud9am</th>\n",
       "      <th>Cloud3pm</th>\n",
       "      <th>Temp9am</th>\n",
       "      <th>Temp3pm</th>\n",
       "      <th>RainToday</th>\n",
       "      <th>RainTomorrow</th>\n",
       "    </tr>\n",
       "  </thead>\n",
       "  <tbody>\n",
       "    <tr>\n",
       "      <th>0</th>\n",
       "      <td>2/1/2008</td>\n",
       "      <td>19.5</td>\n",
       "      <td>22.4</td>\n",
       "      <td>15.6</td>\n",
       "      <td>6.2</td>\n",
       "      <td>0.0</td>\n",
       "      <td>W</td>\n",
       "      <td>41</td>\n",
       "      <td>S</td>\n",
       "      <td>SSW</td>\n",
       "      <td>...</td>\n",
       "      <td>92</td>\n",
       "      <td>84</td>\n",
       "      <td>1017.6</td>\n",
       "      <td>1017.4</td>\n",
       "      <td>8</td>\n",
       "      <td>8</td>\n",
       "      <td>20.7</td>\n",
       "      <td>20.9</td>\n",
       "      <td>Yes</td>\n",
       "      <td>Yes</td>\n",
       "    </tr>\n",
       "    <tr>\n",
       "      <th>1</th>\n",
       "      <td>2/2/2008</td>\n",
       "      <td>19.5</td>\n",
       "      <td>25.6</td>\n",
       "      <td>6.0</td>\n",
       "      <td>3.4</td>\n",
       "      <td>2.7</td>\n",
       "      <td>W</td>\n",
       "      <td>41</td>\n",
       "      <td>W</td>\n",
       "      <td>E</td>\n",
       "      <td>...</td>\n",
       "      <td>83</td>\n",
       "      <td>73</td>\n",
       "      <td>1017.9</td>\n",
       "      <td>1016.4</td>\n",
       "      <td>7</td>\n",
       "      <td>7</td>\n",
       "      <td>22.4</td>\n",
       "      <td>24.8</td>\n",
       "      <td>Yes</td>\n",
       "      <td>Yes</td>\n",
       "    </tr>\n",
       "    <tr>\n",
       "      <th>2</th>\n",
       "      <td>2/3/2008</td>\n",
       "      <td>21.6</td>\n",
       "      <td>24.5</td>\n",
       "      <td>6.6</td>\n",
       "      <td>2.4</td>\n",
       "      <td>0.1</td>\n",
       "      <td>W</td>\n",
       "      <td>41</td>\n",
       "      <td>ESE</td>\n",
       "      <td>ESE</td>\n",
       "      <td>...</td>\n",
       "      <td>88</td>\n",
       "      <td>86</td>\n",
       "      <td>1016.7</td>\n",
       "      <td>1015.6</td>\n",
       "      <td>7</td>\n",
       "      <td>8</td>\n",
       "      <td>23.5</td>\n",
       "      <td>23.0</td>\n",
       "      <td>Yes</td>\n",
       "      <td>Yes</td>\n",
       "    </tr>\n",
       "    <tr>\n",
       "      <th>3</th>\n",
       "      <td>2/4/2008</td>\n",
       "      <td>20.2</td>\n",
       "      <td>22.8</td>\n",
       "      <td>18.8</td>\n",
       "      <td>2.2</td>\n",
       "      <td>0.0</td>\n",
       "      <td>W</td>\n",
       "      <td>41</td>\n",
       "      <td>NNE</td>\n",
       "      <td>E</td>\n",
       "      <td>...</td>\n",
       "      <td>83</td>\n",
       "      <td>90</td>\n",
       "      <td>1014.2</td>\n",
       "      <td>1011.8</td>\n",
       "      <td>8</td>\n",
       "      <td>8</td>\n",
       "      <td>21.4</td>\n",
       "      <td>20.9</td>\n",
       "      <td>Yes</td>\n",
       "      <td>Yes</td>\n",
       "    </tr>\n",
       "    <tr>\n",
       "      <th>4</th>\n",
       "      <td>2/5/2008</td>\n",
       "      <td>19.7</td>\n",
       "      <td>25.7</td>\n",
       "      <td>77.4</td>\n",
       "      <td>4.8</td>\n",
       "      <td>0.0</td>\n",
       "      <td>W</td>\n",
       "      <td>41</td>\n",
       "      <td>NNE</td>\n",
       "      <td>W</td>\n",
       "      <td>...</td>\n",
       "      <td>88</td>\n",
       "      <td>74</td>\n",
       "      <td>1008.3</td>\n",
       "      <td>1004.8</td>\n",
       "      <td>8</td>\n",
       "      <td>8</td>\n",
       "      <td>22.5</td>\n",
       "      <td>25.5</td>\n",
       "      <td>Yes</td>\n",
       "      <td>Yes</td>\n",
       "    </tr>\n",
       "  </tbody>\n",
       "</table>\n",
       "<p>5 rows × 22 columns</p>\n",
       "</div>"
      ],
      "text/plain": [
       "       Date  MinTemp  MaxTemp  Rainfall  Evaporation  Sunshine WindGustDir  \\\n",
       "0  2/1/2008     19.5     22.4      15.6          6.2       0.0           W   \n",
       "1  2/2/2008     19.5     25.6       6.0          3.4       2.7           W   \n",
       "2  2/3/2008     21.6     24.5       6.6          2.4       0.1           W   \n",
       "3  2/4/2008     20.2     22.8      18.8          2.2       0.0           W   \n",
       "4  2/5/2008     19.7     25.7      77.4          4.8       0.0           W   \n",
       "\n",
       "   WindGustSpeed WindDir9am WindDir3pm  ...  Humidity9am  Humidity3pm  \\\n",
       "0             41          S        SSW  ...           92           84   \n",
       "1             41          W          E  ...           83           73   \n",
       "2             41        ESE        ESE  ...           88           86   \n",
       "3             41        NNE          E  ...           83           90   \n",
       "4             41        NNE          W  ...           88           74   \n",
       "\n",
       "   Pressure9am  Pressure3pm  Cloud9am  Cloud3pm  Temp9am  Temp3pm  RainToday  \\\n",
       "0       1017.6       1017.4         8         8     20.7     20.9        Yes   \n",
       "1       1017.9       1016.4         7         7     22.4     24.8        Yes   \n",
       "2       1016.7       1015.6         7         8     23.5     23.0        Yes   \n",
       "3       1014.2       1011.8         8         8     21.4     20.9        Yes   \n",
       "4       1008.3       1004.8         8         8     22.5     25.5        Yes   \n",
       "\n",
       "   RainTomorrow  \n",
       "0           Yes  \n",
       "1           Yes  \n",
       "2           Yes  \n",
       "3           Yes  \n",
       "4           Yes  \n",
       "\n",
       "[5 rows x 22 columns]"
      ]
     },
     "execution_count": 13,
     "metadata": {},
     "output_type": "execute_result"
    }
   ],
   "source": [
    "df.head()"
   ]
  },
  {
   "cell_type": "markdown",
   "id": "444818bd-ee56-421c-ab6a-87fdf3201e7f",
   "metadata": {},
   "source": [
    "## Data Preprocessing"
   ]
  },
  {
   "cell_type": "code",
   "execution_count": 14,
   "id": "b606a149-27a9-4b76-96c8-e69cd8b077bf",
   "metadata": {},
   "outputs": [],
   "source": [
    "df_sydney_processed = pd.get_dummies(data=df, columns=['RainToday', 'WindGustDir', 'WindDir9am', 'WindDir3pm'])"
   ]
  },
  {
   "cell_type": "code",
   "execution_count": 15,
   "id": "4995693f-60ef-4b8d-90e7-b630ba76bfb5",
   "metadata": {},
   "outputs": [],
   "source": [
    "df_sydney_processed.replace(['No', 'Yes'], [0,1], inplace=True)"
   ]
  },
  {
   "cell_type": "markdown",
   "id": "04633e1d-a91c-47d9-8a84-1c9d713b84db",
   "metadata": {},
   "source": [
    "## Training Data and Test Data"
   ]
  },
  {
   "cell_type": "code",
   "execution_count": 16,
   "id": "b59e003f-e08b-4ed3-8d07-75fd70e73e12",
   "metadata": {},
   "outputs": [],
   "source": [
    "df_sydney_processed.drop('Date',axis=1,inplace=True)"
   ]
  },
  {
   "cell_type": "code",
   "execution_count": 17,
   "id": "d7d40405-93e2-4468-99fe-66c71f46548c",
   "metadata": {},
   "outputs": [],
   "source": [
    "df_sydney_processed = df_sydney_processed.astype(float)"
   ]
  },
  {
   "cell_type": "code",
   "execution_count": 18,
   "id": "a9e0df6c-d8dc-4e66-9441-eb80988beb62",
   "metadata": {},
   "outputs": [],
   "source": [
    "features = df_sydney_processed.drop(columns='RainTomorrow', axis=1)\n",
    "Y = df_sydney_processed['RainTomorrow']"
   ]
  },
  {
   "cell_type": "markdown",
   "id": "fb104895-4f05-48c1-8924-3e93bc57d3ec",
   "metadata": {},
   "source": [
    "## Linear Regression"
   ]
  },
  {
   "cell_type": "markdown",
   "id": "0080e21a-ff9a-4f7c-8e41-9f0cbbd260da",
   "metadata": {},
   "source": [
    "### Q1) Use the train_test_split function to split the features and Y dataframes with a test_size of 0.2 and the random_state set to 10."
   ]
  },
  {
   "cell_type": "code",
   "execution_count": 20,
   "id": "57b5892e-eed7-4efe-bfb7-06cbdcb887d4",
   "metadata": {},
   "outputs": [
    {
     "name": "stdout",
     "output_type": "stream",
     "text": [
      "Data loaded and split successfully!\n"
     ]
    }
   ],
   "source": [
    "import pandas as pd\n",
    "from sklearn.model_selection import train_test_split\n",
    "\n",
    "# Load the dataset directly from the URL\n",
    "url = \"https://cf-courses-data.s3.us.cloud-object-storage.appdomain.cloud/IBMDeveloperSkillsNetwork-ML0101EN-SkillUp/labs/ML-FinalAssignment/Weather_Data.csv\"\n",
    "df = pd.read_csv(url)\n",
    "\n",
    "# Perform one-hot encoding\n",
    "df = pd.get_dummies(data=df, columns=['RainToday', 'WindGustDir', 'WindDir9am', 'WindDir3pm'])\n",
    "\n",
    "# Handle missing values by filling with median/mode\n",
    "df.fillna(df.median(numeric_only=True), inplace=True)\n",
    "df.fillna(df.mode().iloc[0], inplace=True)\n",
    "\n",
    "# Define features and target variable\n",
    "X = df.drop(columns=['RainTomorrow', 'Date'], errors='ignore')\n",
    "y = df['RainTomorrow'].map({'Yes': 1, 'No': 0})\n",
    "\n",
    "# Split the data into training and testing sets with a test_size of 0.2 and random_state set to 10\n",
    "X_train, X_test, y_train, y_test = train_test_split(X, y, test_size=0.2, random_state=10)\n",
    "\n",
    "print(\"Data loaded and split successfully!\")\n"
   ]
  },
  {
   "cell_type": "code",
   "execution_count": 21,
   "id": "e4244030-e8d9-4b9d-8fe4-1836ad3cd092",
   "metadata": {},
   "outputs": [
    {
     "name": "stdout",
     "output_type": "stream",
     "text": [
      "Linear Regression:\n",
      "Accuracy: 0.84\n",
      "Jaccard Index: 0.51\n",
      "F1-Score: 0.68\n",
      "Mean Absolute Error: 0.26\n",
      "Mean Squared Error: 0.12\n",
      "R2-Score: 0.43\n"
     ]
    }
   ],
   "source": [
    "from sklearn.linear_model import LinearRegression\n",
    "from sklearn.metrics import mean_absolute_error, mean_squared_error, r2_score, accuracy_score, jaccard_score, f1_score\n",
    "\n",
    "# Initialize the linear regression model\n",
    "lin_reg = LinearRegression()\n",
    "\n",
    "# Fit the model\n",
    "lin_reg.fit(X_train, y_train)\n",
    "\n",
    "# Make predictions\n",
    "y_pred_lin_reg = lin_reg.predict(X_test)\n",
    "\n",
    "# Since linear regression provides continuous output, we need to threshold it to get binary predictions\n",
    "y_pred_lin_reg_binary = (y_pred_lin_reg >= 0.5).astype(int)\n",
    "\n",
    "# Evaluate the model\n",
    "accuracy = accuracy_score(y_test, y_pred_lin_reg_binary)\n",
    "jaccard = jaccard_score(y_test, y_pred_lin_reg_binary)\n",
    "f1 = f1_score(y_test, y_pred_lin_reg_binary)\n",
    "mae = mean_absolute_error(y_test, y_pred_lin_reg)\n",
    "mse = mean_squared_error(y_test, y_pred_lin_reg)\n",
    "r2 = r2_score(y_test, y_pred_lin_reg)\n",
    "\n",
    "print(\"Linear Regression:\")\n",
    "print(f\"Accuracy: {accuracy:.2f}\")\n",
    "print(f\"Jaccard Index: {jaccard:.2f}\")\n",
    "print(f\"F1-Score: {f1:.2f}\")\n",
    "print(f\"Mean Absolute Error: {mae:.2f}\")\n",
    "print(f\"Mean Squared Error: {mse:.2f}\")\n",
    "print(f\"R2-Score: {r2:.2f}\")\n"
   ]
  },
  {
   "cell_type": "code",
   "execution_count": 22,
   "id": "4c7a4f51-5578-451f-9196-457e84f154e0",
   "metadata": {},
   "outputs": [
    {
     "data": {
      "text/html": [
       "<div>\n",
       "<style scoped>\n",
       "    .dataframe tbody tr th:only-of-type {\n",
       "        vertical-align: middle;\n",
       "    }\n",
       "\n",
       "    .dataframe tbody tr th {\n",
       "        vertical-align: top;\n",
       "    }\n",
       "\n",
       "    .dataframe thead th {\n",
       "        text-align: right;\n",
       "    }\n",
       "</style>\n",
       "<table border=\"1\" class=\"dataframe\">\n",
       "  <thead>\n",
       "    <tr style=\"text-align: right;\">\n",
       "      <th></th>\n",
       "      <th>Model</th>\n",
       "      <th>Accuracy</th>\n",
       "      <th>Jaccard Index</th>\n",
       "      <th>F1-Score</th>\n",
       "      <th>LogLoss</th>\n",
       "    </tr>\n",
       "  </thead>\n",
       "  <tbody>\n",
       "    <tr>\n",
       "      <th>0</th>\n",
       "      <td>Linear Regression</td>\n",
       "      <td>0.836641</td>\n",
       "      <td>0.513636</td>\n",
       "      <td>0.678679</td>\n",
       "      <td>N/A</td>\n",
       "    </tr>\n",
       "  </tbody>\n",
       "</table>\n",
       "</div>"
      ],
      "text/plain": [
       "               Model  Accuracy  Jaccard Index  F1-Score LogLoss\n",
       "0  Linear Regression  0.836641       0.513636  0.678679     N/A"
      ]
     },
     "execution_count": 22,
     "metadata": {},
     "output_type": "execute_result"
    }
   ],
   "source": [
    "# Create a summary table if it doesn't exist\n",
    "try:\n",
    "    results\n",
    "except NameError:\n",
    "    results = pd.DataFrame(columns=[\"Model\", \"Accuracy\", \"Jaccard Index\", \"F1-Score\", \"LogLoss\"])\n",
    "\n",
    "# Append linear regression results to the summary table using pd.concat\n",
    "new_result = pd.DataFrame([{\n",
    "    \"Model\": \"Linear Regression\",\n",
    "    \"Accuracy\": accuracy,\n",
    "    \"Jaccard Index\": jaccard,\n",
    "    \"F1-Score\": f1,\n",
    "    \"LogLoss\": \"N/A\"  # LogLoss is not applicable for linear regression\n",
    "}])\n",
    "\n",
    "results = pd.concat([results, new_result], ignore_index=True)\n",
    "\n",
    "results\n"
   ]
  },
  {
   "cell_type": "markdown",
   "id": "001caf5d-057f-4072-ad3a-7dbcf5302e93",
   "metadata": {},
   "source": [
    "### Q2) Create and train a Linear Regression model called LinearReg using the training data (x_train, y_train)"
   ]
  },
  {
   "cell_type": "code",
   "execution_count": 23,
   "id": "462d5965-d7ac-4d8b-8978-b8254261482b",
   "metadata": {},
   "outputs": [
    {
     "data": {
      "text/html": [
       "<style>#sk-container-id-1 {color: black;background-color: white;}#sk-container-id-1 pre{padding: 0;}#sk-container-id-1 div.sk-toggleable {background-color: white;}#sk-container-id-1 label.sk-toggleable__label {cursor: pointer;display: block;width: 100%;margin-bottom: 0;padding: 0.3em;box-sizing: border-box;text-align: center;}#sk-container-id-1 label.sk-toggleable__label-arrow:before {content: \"▸\";float: left;margin-right: 0.25em;color: #696969;}#sk-container-id-1 label.sk-toggleable__label-arrow:hover:before {color: black;}#sk-container-id-1 div.sk-estimator:hover label.sk-toggleable__label-arrow:before {color: black;}#sk-container-id-1 div.sk-toggleable__content {max-height: 0;max-width: 0;overflow: hidden;text-align: left;background-color: #f0f8ff;}#sk-container-id-1 div.sk-toggleable__content pre {margin: 0.2em;color: black;border-radius: 0.25em;background-color: #f0f8ff;}#sk-container-id-1 input.sk-toggleable__control:checked~div.sk-toggleable__content {max-height: 200px;max-width: 100%;overflow: auto;}#sk-container-id-1 input.sk-toggleable__control:checked~label.sk-toggleable__label-arrow:before {content: \"▾\";}#sk-container-id-1 div.sk-estimator input.sk-toggleable__control:checked~label.sk-toggleable__label {background-color: #d4ebff;}#sk-container-id-1 div.sk-label input.sk-toggleable__control:checked~label.sk-toggleable__label {background-color: #d4ebff;}#sk-container-id-1 input.sk-hidden--visually {border: 0;clip: rect(1px 1px 1px 1px);clip: rect(1px, 1px, 1px, 1px);height: 1px;margin: -1px;overflow: hidden;padding: 0;position: absolute;width: 1px;}#sk-container-id-1 div.sk-estimator {font-family: monospace;background-color: #f0f8ff;border: 1px dotted black;border-radius: 0.25em;box-sizing: border-box;margin-bottom: 0.5em;}#sk-container-id-1 div.sk-estimator:hover {background-color: #d4ebff;}#sk-container-id-1 div.sk-parallel-item::after {content: \"\";width: 100%;border-bottom: 1px solid gray;flex-grow: 1;}#sk-container-id-1 div.sk-label:hover label.sk-toggleable__label {background-color: #d4ebff;}#sk-container-id-1 div.sk-serial::before {content: \"\";position: absolute;border-left: 1px solid gray;box-sizing: border-box;top: 0;bottom: 0;left: 50%;z-index: 0;}#sk-container-id-1 div.sk-serial {display: flex;flex-direction: column;align-items: center;background-color: white;padding-right: 0.2em;padding-left: 0.2em;position: relative;}#sk-container-id-1 div.sk-item {position: relative;z-index: 1;}#sk-container-id-1 div.sk-parallel {display: flex;align-items: stretch;justify-content: center;background-color: white;position: relative;}#sk-container-id-1 div.sk-item::before, #sk-container-id-1 div.sk-parallel-item::before {content: \"\";position: absolute;border-left: 1px solid gray;box-sizing: border-box;top: 0;bottom: 0;left: 50%;z-index: -1;}#sk-container-id-1 div.sk-parallel-item {display: flex;flex-direction: column;z-index: 1;position: relative;background-color: white;}#sk-container-id-1 div.sk-parallel-item:first-child::after {align-self: flex-end;width: 50%;}#sk-container-id-1 div.sk-parallel-item:last-child::after {align-self: flex-start;width: 50%;}#sk-container-id-1 div.sk-parallel-item:only-child::after {width: 0;}#sk-container-id-1 div.sk-dashed-wrapped {border: 1px dashed gray;margin: 0 0.4em 0.5em 0.4em;box-sizing: border-box;padding-bottom: 0.4em;background-color: white;}#sk-container-id-1 div.sk-label label {font-family: monospace;font-weight: bold;display: inline-block;line-height: 1.2em;}#sk-container-id-1 div.sk-label-container {text-align: center;}#sk-container-id-1 div.sk-container {/* jupyter's `normalize.less` sets `[hidden] { display: none; }` but bootstrap.min.css set `[hidden] { display: none !important; }` so we also need the `!important` here to be able to override the default hidden behavior on the sphinx rendered scikit-learn.org. See: https://github.com/scikit-learn/scikit-learn/issues/21755 */display: inline-block !important;position: relative;}#sk-container-id-1 div.sk-text-repr-fallback {display: none;}</style><div id=\"sk-container-id-1\" class=\"sk-top-container\"><div class=\"sk-text-repr-fallback\"><pre>LinearRegression()</pre><b>In a Jupyter environment, please rerun this cell to show the HTML representation or trust the notebook. <br />On GitHub, the HTML representation is unable to render, please try loading this page with nbviewer.org.</b></div><div class=\"sk-container\" hidden><div class=\"sk-item\"><div class=\"sk-estimator sk-toggleable\"><input class=\"sk-toggleable__control sk-hidden--visually\" id=\"sk-estimator-id-1\" type=\"checkbox\" checked><label for=\"sk-estimator-id-1\" class=\"sk-toggleable__label sk-toggleable__label-arrow\">LinearRegression</label><div class=\"sk-toggleable__content\"><pre>LinearRegression()</pre></div></div></div></div></div>"
      ],
      "text/plain": [
       "LinearRegression()"
      ]
     },
     "execution_count": 23,
     "metadata": {},
     "output_type": "execute_result"
    }
   ],
   "source": [
    "#Enter Your Code and Efrom sklearn.linear_model import LinearRegression\n",
    "\n",
    "# Initialize the Linear Regression model\n",
    "LinearReg = LinearRegression()\n",
    "\n",
    "# Train the model using the training data\n",
    "LinearReg.fit(X_train, y_train)\n"
   ]
  },
  {
   "cell_type": "code",
   "execution_count": 24,
   "id": "8b93aa18-52e6-40f0-a5d9-ca8056658bbd",
   "metadata": {},
   "outputs": [
    {
     "name": "stdout",
     "output_type": "stream",
     "text": [
      "Coefficients: [-2.36946709e-02  1.30528498e-02  7.30741811e-04  6.48086479e-03\n",
      " -3.51665228e-02  4.23576504e-03  1.83177620e-03  7.91415854e-04\n",
      "  9.59311783e-04  8.55637076e-03  7.70190836e-03 -9.24845557e-03\n",
      " -8.86878011e-03  1.00413073e-02  1.44858937e-02 -3.54592115e-03\n",
      " -7.74520021e+10 -7.74520021e+10  2.11152148e+09  2.11152148e+09\n",
      "  2.11152148e+09  2.11152148e+09  2.11152148e+09  2.11152148e+09\n",
      "  2.11152148e+09  2.11152148e+09  2.11152148e+09  2.11152148e+09\n",
      "  2.11152148e+09  2.11152148e+09  2.11152148e+09  2.11152148e+09\n",
      "  2.11152148e+09  2.11152148e+09  7.65756278e+09  7.65756278e+09\n",
      "  7.65756278e+09  7.65756278e+09  7.65756278e+09  7.65756278e+09\n",
      "  7.65756278e+09  7.65756278e+09  7.65756278e+09  7.65756278e+09\n",
      "  7.65756278e+09  7.65756278e+09  7.65756278e+09  7.65756278e+09\n",
      "  7.65756278e+09  7.65756278e+09 -9.48859411e+09 -9.48859411e+09\n",
      " -9.48859411e+09 -9.48859411e+09 -9.48859411e+09 -9.48859411e+09\n",
      " -9.48859411e+09 -9.48859411e+09 -9.48859411e+09 -9.48859411e+09\n",
      " -9.48859411e+09 -9.48859411e+09 -9.48859411e+09 -9.48859411e+09\n",
      " -9.48859411e+09 -9.48859411e+09]\n",
      "Intercept: 77171511916.86295\n"
     ]
    }
   ],
   "source": [
    "print(f\"Coefficients: {LinearReg.coef_}\")\n",
    "print(f\"Intercept: {LinearReg.intercept_}\")\n"
   ]
  },
  {
   "cell_type": "code",
   "execution_count": 25,
   "id": "4aab0df7-55ff-4ee5-9392-d4176ccc2b96",
   "metadata": {},
   "outputs": [
    {
     "name": "stdout",
     "output_type": "stream",
     "text": [
      "Linear Regression:\n",
      "Accuracy: 0.84\n",
      "Jaccard Index: 0.51\n",
      "F1-Score: 0.68\n",
      "Mean Absolute Error: 0.26\n",
      "Mean Squared Error: 0.12\n",
      "R2-Score: 0.43\n"
     ]
    }
   ],
   "source": [
    "from sklearn.metrics import mean_absolute_error, mean_squared_error, r2_score, accuracy_score, jaccard_score, f1_score\n",
    "\n",
    "# Make predictions using the testing data\n",
    "y_pred_lin_reg = LinearReg.predict(X_test)\n",
    "\n",
    "# Since linear regression provides continuous output, we need to threshold it to get binary predictions\n",
    "y_pred_lin_reg_binary = (y_pred_lin_reg >= 0.5).astype(int)\n",
    "\n",
    "# Evaluate the model\n",
    "accuracy = accuracy_score(y_test, y_pred_lin_reg_binary)\n",
    "jaccard = jaccard_score(y_test, y_pred_lin_reg_binary)\n",
    "f1 = f1_score(y_test, y_pred_lin_reg_binary)\n",
    "mae = mean_absolute_error(y_test, y_pred_lin_reg)\n",
    "mse = mean_squared_error(y_test, y_pred_lin_reg)\n",
    "r2 = r2_score(y_test, y_pred_lin_reg)\n",
    "\n",
    "print(\"Linear Regression:\")\n",
    "print(f\"Accuracy: {accuracy:.2f}\")\n",
    "print(f\"Jaccard Index: {jaccard:.2f}\")\n",
    "print(f\"F1-Score: {f1:.2f}\")\n",
    "print(f\"Mean Absolute Error: {mae:.2f}\")\n",
    "print(f\"Mean Squared Error: {mse:.2f}\")\n",
    "print(f\"R2-Score: {r2:.2f}\")\n"
   ]
  },
  {
   "cell_type": "code",
   "execution_count": 26,
   "id": "5eefa7ec-8506-4c98-81e1-2475f335cc79",
   "metadata": {},
   "outputs": [
    {
     "data": {
      "text/html": [
       "<div>\n",
       "<style scoped>\n",
       "    .dataframe tbody tr th:only-of-type {\n",
       "        vertical-align: middle;\n",
       "    }\n",
       "\n",
       "    .dataframe tbody tr th {\n",
       "        vertical-align: top;\n",
       "    }\n",
       "\n",
       "    .dataframe thead th {\n",
       "        text-align: right;\n",
       "    }\n",
       "</style>\n",
       "<table border=\"1\" class=\"dataframe\">\n",
       "  <thead>\n",
       "    <tr style=\"text-align: right;\">\n",
       "      <th></th>\n",
       "      <th>Model</th>\n",
       "      <th>Accuracy</th>\n",
       "      <th>Jaccard Index</th>\n",
       "      <th>F1-Score</th>\n",
       "      <th>LogLoss</th>\n",
       "    </tr>\n",
       "  </thead>\n",
       "  <tbody>\n",
       "    <tr>\n",
       "      <th>0</th>\n",
       "      <td>Linear Regression</td>\n",
       "      <td>0.836641</td>\n",
       "      <td>0.513636</td>\n",
       "      <td>0.678679</td>\n",
       "      <td>N/A</td>\n",
       "    </tr>\n",
       "    <tr>\n",
       "      <th>1</th>\n",
       "      <td>Linear Regression</td>\n",
       "      <td>0.836641</td>\n",
       "      <td>0.513636</td>\n",
       "      <td>0.678679</td>\n",
       "      <td>N/A</td>\n",
       "    </tr>\n",
       "  </tbody>\n",
       "</table>\n",
       "</div>"
      ],
      "text/plain": [
       "               Model  Accuracy  Jaccard Index  F1-Score LogLoss\n",
       "0  Linear Regression  0.836641       0.513636  0.678679     N/A\n",
       "1  Linear Regression  0.836641       0.513636  0.678679     N/A"
      ]
     },
     "execution_count": 26,
     "metadata": {},
     "output_type": "execute_result"
    }
   ],
   "source": [
    "# Create a summary table if it doesn't exist\n",
    "try:\n",
    "    results\n",
    "except NameError:\n",
    "    results = pd.DataFrame(columns=[\"Model\", \"Accuracy\", \"Jaccard Index\", \"F1-Score\", \"LogLoss\"])\n",
    "\n",
    "# Append linear regression results to the summary table using pd.concat\n",
    "new_result = pd.DataFrame([{\n",
    "    \"Model\": \"Linear Regression\",\n",
    "    \"Accuracy\": accuracy,\n",
    "    \"Jaccard Index\": jaccard,\n",
    "    \"F1-Score\": f1,\n",
    "    \"LogLoss\": \"N/A\"  # LogLoss is not applicable for linear regression\n",
    "}])\n",
    "\n",
    "results = pd.concat([results, new_result], ignore_index=True)\n",
    "\n",
    "results\n"
   ]
  },
  {
   "cell_type": "markdown",
   "id": "64be69f7-5420-4792-9423-127c462c14fa",
   "metadata": {},
   "source": [
    "### Q3) Now use the predict method on the testing data (x_test) and save it to the array predictions.¶"
   ]
  },
  {
   "cell_type": "code",
   "execution_count": 27,
   "id": "8a86fc19-c178-44f4-bd6d-e5e3afe31d9f",
   "metadata": {},
   "outputs": [
    {
     "name": "stdout",
     "output_type": "stream",
     "text": [
      "[ 1.31927490e-01  2.76077271e-01  9.78149414e-01  2.87460327e-01\n",
      "  1.32339478e-01  4.60342407e-01  3.56857300e-01  8.56338501e-01\n",
      "  6.75018311e-01  3.84063721e-02  4.85229492e-03  2.81280518e-01\n",
      "  3.39141846e-01  7.80792236e-02  6.25915527e-02  5.64392090e-01\n",
      " -6.14166260e-02  5.24108887e-01  1.53717041e-01  3.59695435e-01\n",
      "  6.05468750e-02  9.03564453e-01  4.67544556e-01  2.03338623e-01\n",
      " -7.10449219e-02  3.83758545e-01  5.36071777e-01 -2.29034424e-02\n",
      "  6.40258789e-01 -9.57489014e-02  3.78128052e-01  1.20330811e-01\n",
      " -1.81579590e-02  5.54809570e-02  5.63461304e-01  1.06292725e+00\n",
      " -6.77490234e-03  5.14404297e-01 -8.83789062e-02  6.92138672e-02\n",
      "  2.45208740e-02  8.71704102e-01  2.44689941e-01  3.94775391e-01\n",
      "  2.67593384e-01  4.46807861e-01 -4.75158691e-02  1.89468384e-01\n",
      "  7.76611328e-01  1.57775879e-01  3.86047363e-03 -5.19561768e-02\n",
      "  2.07412720e-01 -2.07794189e-01 -7.62786865e-02  2.49572754e-01\n",
      "  2.79281616e-01  6.02783203e-01  6.29592896e-01  4.90631104e-01\n",
      "  5.66406250e-02  1.05422974e-01  6.70181274e-01  7.64816284e-01\n",
      "  9.82971191e-02 -6.32476807e-02  4.13818359e-01  7.26318359e-02\n",
      "  2.49938965e-01  2.56591797e-01  3.78417969e-02 -6.87866211e-02\n",
      "  3.48083496e-01  1.73156738e-01  4.15344238e-01 -7.24182129e-02\n",
      "  3.41232300e-01  1.87072754e-01 -1.54815674e-01  7.99865723e-01\n",
      "  2.32482910e-01  2.37396240e-01  2.56072998e-01  1.03469849e-01\n",
      "  6.20758057e-01  1.29608154e-01  3.71490479e-01  4.83184814e-01\n",
      "  3.08364868e-01  1.19491577e-01  5.48400879e-02  1.12792969e-01\n",
      " -1.62490845e-01 -1.57836914e-01  7.28607178e-02  7.76489258e-01\n",
      "  8.43200684e-02  6.43005371e-01  1.21704102e-01  1.78009033e-01\n",
      "  3.04870605e-01  1.85485840e-01  1.13162231e+00  3.44421387e-01\n",
      "  8.26782227e-01  5.38864136e-01  2.74322510e-01  6.29409790e-01\n",
      " -6.73217773e-02  9.63714600e-01  5.62164307e-01  2.34069824e-02\n",
      "  1.05560303e-01  9.40246582e-02  8.15582275e-02  2.92205811e-01\n",
      "  5.55084229e-01  6.69555664e-02  4.25720215e-02  1.05285645e-03\n",
      "  1.37573242e-01 -2.17971802e-01  7.01904297e-02  1.19873047e-01\n",
      "  1.92718506e-01 -3.82995605e-02  1.56082153e-01  7.12615967e-01\n",
      "  2.62374878e-01  5.34820557e-01  3.97857666e-01 -4.64935303e-02\n",
      "  2.43988037e-01  2.06268311e-01  2.80395508e-01 -1.28112793e-01\n",
      "  1.19537354e-01  3.83529663e-01  1.84295654e-01  7.28652954e-01\n",
      "  3.31863403e-01 -1.03149414e-01  2.39593506e-01  3.06213379e-01\n",
      "  6.63162231e-01  2.22015381e-02  1.60095215e-01  5.21621704e-01\n",
      " -4.33654785e-02  7.98583984e-01  2.21633911e-01  3.89907837e-01\n",
      " -5.63964844e-02  4.02328491e-01  2.34146118e-01  1.20483398e-01\n",
      "  3.05587769e-01  7.86163330e-01  3.32641602e-02  1.22560120e+00\n",
      "  8.94622803e-01  8.18176270e-02 -1.52435303e-02  1.71096802e-01\n",
      " -6.85882568e-02 -1.07818604e-01 -5.01403809e-02  2.98690796e-01\n",
      "  3.57131958e-01  9.57946777e-02  8.85253906e-01 -3.33251953e-02\n",
      "  5.99243164e-01  8.94775391e-02  9.83734131e-02  3.54125977e-01\n",
      "  2.36236572e-01 -6.73522949e-02  1.44363403e-01  4.17846680e-01\n",
      "  5.87524414e-01  2.16735840e-01 -3.32641602e-02  1.00625610e+00\n",
      "  4.26025391e-02 -1.72729492e-02  2.48352051e-01 -5.93566895e-02\n",
      "  2.22305298e-01 -7.17315674e-02  8.47167969e-02  7.15026855e-02\n",
      "  3.48968506e-02  4.43527222e-01  1.86706543e-01  1.83242798e-01\n",
      "  7.56835938e-02  1.37023926e-02  1.84631348e-01  2.32330322e-01\n",
      "  5.30578613e-01  1.60400391e-01  3.95309448e-01 -4.49218750e-02\n",
      "  8.39279175e-01  1.65710449e-02 -1.69372559e-02 -2.14233398e-02\n",
      "  1.46545410e-01  1.38122559e-01 -3.33862305e-02  4.14871216e-01\n",
      "  6.57287598e-01 -4.82177734e-03  2.87170410e-02  4.61425781e-02\n",
      " -7.20672607e-02  2.73788452e-01  5.28656006e-01 -5.90209961e-02\n",
      "  8.43200684e-01  3.25851440e-01  3.18939209e-01  3.63464355e-02\n",
      " -8.51898193e-02  2.83218384e-01  3.01284790e-01  1.37649536e-01\n",
      "  3.35876465e-01  4.12475586e-01  3.75350952e-01  1.24328613e-01\n",
      "  2.88024902e-01  9.06341553e-01  4.45571899e-01  2.74887085e-01\n",
      " -6.68334961e-03  6.91787720e-01  6.71966553e-01  1.15280151e-01\n",
      "  7.74505615e-01  9.94369507e-01  5.87677002e-01  3.14422607e-01\n",
      "  2.26470947e-01 -4.47998047e-02  2.26089478e-01  2.30529785e-01\n",
      "  3.54980469e-01 -1.26678467e-01  3.50799561e-02  1.82266235e-01\n",
      "  2.15469360e-01  1.76315308e-01 -2.97241211e-02  1.00054932e+00\n",
      "  1.88140869e-01  7.51953125e-01  6.19903564e-01  7.17803955e-01\n",
      "  3.15780640e-01  2.24609375e-02  3.26446533e-01 -6.83593750e-03\n",
      "  2.81616211e-01 -2.27355957e-02  7.98950195e-02 -2.36511230e-03\n",
      "  3.57254028e-01  1.36520386e-01  2.65838623e-01  1.41143799e-02\n",
      "  2.21206665e-01  7.07397461e-01  1.59469604e-01  2.04620361e-01\n",
      "  5.38269043e-01 -1.52435303e-01  2.54898071e-01  2.76336670e-01\n",
      "  2.64099121e-01  6.70013428e-02  9.74349976e-01  1.99951172e-01\n",
      "  7.55737305e-01 -3.48968506e-02  4.87625122e-01  5.90515137e-03\n",
      " -7.22808838e-02  3.05938721e-01 -2.05047607e-01  1.91040039e-01\n",
      " -2.45666504e-02 -7.71636963e-02  2.78945923e-01  7.84912109e-02\n",
      "  2.33856201e-01  4.44885254e-01  6.62231445e-02 -3.30810547e-02\n",
      "  5.83145142e-01  5.78613281e-02  3.20434570e-01  7.24136353e-01\n",
      "  1.35269165e-01 -2.22778320e-02  7.33032227e-01 -3.08395386e-01\n",
      "  1.09121704e+00  2.85980225e-01  8.85101318e-01  6.96517944e-01\n",
      "  5.85189819e-01 -2.21557617e-02  9.51980591e-01  7.15133667e-01\n",
      "  4.48516846e-01  5.80459595e-01  1.87133789e-01  2.29736328e-01\n",
      " -5.78308105e-02  3.15200806e-01  8.74771118e-01 -1.66625977e-02\n",
      "  2.52700806e-01 -3.35083008e-02 -4.40826416e-02  4.13513184e-02\n",
      "  2.35931396e-01  2.03186035e-01  8.82049561e-01  5.87219238e-01\n",
      "  1.20208740e-01 -2.03247070e-02 -1.91040039e-02  1.03454590e-01\n",
      "  8.30078125e-03  2.29248047e-01 -1.69677734e-02  7.16552734e-02\n",
      "  1.62734985e-01  1.70104980e-01  2.46612549e-01  1.47766113e-01\n",
      "  3.91723633e-01 -6.66351318e-02  1.15692139e-01  1.84448242e-01\n",
      "  9.06524658e-02 -1.79595947e-02  2.09304810e-01 -1.30615234e-02\n",
      "  5.46417236e-01  4.15847778e-01  1.78222656e-01  1.72271729e-02\n",
      "  4.94033813e-01  1.47201538e-01  5.24841309e-01  5.98327637e-01\n",
      "  3.08425903e-01  3.09371948e-01  4.46380615e-01  1.68258667e-01\n",
      "  2.60803223e-01  7.56256104e-01  4.06280518e-01  4.90631104e-01\n",
      "  5.14373779e-01 -1.30126953e-01  7.90252686e-02  3.50631714e-01\n",
      "  1.00468445e+00  2.73468018e-01  6.35452271e-01  5.78582764e-01\n",
      "  4.68215942e-01  3.82995605e-03  3.59115601e-01  6.74438477e-02\n",
      " -4.23431396e-02  7.03353882e-01  1.27136230e-01  8.00186157e-01\n",
      "  4.70962524e-01 -1.73950195e-02  2.92816162e-02  5.55297852e-01\n",
      "  5.01098633e-02  1.15203857e-01 -9.61303711e-03  1.47491455e-01\n",
      "  4.71130371e-01 -9.25140381e-02  8.08868408e-02  3.11126709e-02\n",
      "  3.94836426e-01  2.23739624e-01  1.00341797e+00  7.08084106e-01\n",
      "  3.56018066e-01  2.62878418e-01 -2.83966064e-02 -9.47570801e-03\n",
      "  3.10363770e-02  1.41784668e-01  7.82775879e-02  5.12496948e-01\n",
      "  2.04833984e-01  3.11584473e-01  5.28503418e-01  4.61959839e-01\n",
      "  5.36651611e-02  8.17230225e-01  5.33966064e-01 -1.38153076e-01\n",
      "  5.09323120e-01  1.94091797e-01  4.56512451e-01  1.85165405e-01\n",
      "  2.21862793e-01  1.15600586e-01  6.32934570e-02  7.36694336e-02\n",
      "  1.02386475e-01  5.51513672e-01  7.02972412e-01  5.22094727e-01\n",
      "  5.34759521e-01  3.19824219e-02  1.11206055e-01 -1.18591309e-01\n",
      "  5.32135010e-01 -1.74468994e-01  4.54544067e-01  9.74411011e-01\n",
      "  4.18182373e-01 -1.16027832e-01  8.70773315e-01  1.62200928e-01\n",
      "  6.13006592e-01  3.17169189e-01 -7.85369873e-02  4.93988037e-01\n",
      "  7.44873047e-01  6.06384277e-02  6.03790283e-02  2.36785889e-01\n",
      "  5.79223633e-01  1.10839844e-01  3.81912231e-01  6.02233887e-01\n",
      "  5.84411621e-02  2.21847534e-01  3.88916016e-01  6.63726807e-01\n",
      "  1.56173706e-01  3.97308350e-01  5.80291748e-01  5.03829956e-01\n",
      "  1.06506348e-01  1.49810791e-01  2.33154297e-01 -3.23486328e-03\n",
      " -2.85644531e-02  2.65914917e-01  2.60696411e-01 -6.16760254e-02\n",
      "  1.46270752e-01  8.24829102e-01  5.68496704e-01 -9.55047607e-02\n",
      " -1.02661133e-01  8.48846436e-02  1.61575317e-01 -7.89642334e-02\n",
      "  9.43908691e-01  7.94219971e-02  3.38500977e-01  1.57989502e-01\n",
      " -6.93969727e-02  2.15103149e-01  4.78881836e-01  2.15148926e-02\n",
      "  5.34439087e-01  1.42532349e-01 -1.58325195e-01  9.94873047e-03\n",
      "  2.26806641e-01  3.34823608e-01  6.05163574e-02 -2.09655762e-02\n",
      " -1.07803345e-01  3.34335327e-01  5.10223389e-01  3.45993042e-01\n",
      " -8.66851807e-02 -4.99267578e-02  5.05355835e-01  8.23364258e-02\n",
      "  6.76116943e-02  3.23181152e-01  3.38256836e-01  5.37429810e-01\n",
      "  2.91839600e-01  3.30581665e-01 -4.10766602e-02  8.27499390e-01\n",
      "  6.03530884e-01  2.36694336e-01  7.02209473e-01  4.44656372e-01\n",
      "  5.81161499e-01  1.89971924e-01  5.47180176e-02  9.38110352e-02\n",
      " -6.77185059e-02  1.06002808e-01 -2.49176025e-02 -2.94342041e-02\n",
      "  6.56280518e-02  9.62219238e-02  1.03302002e-01  1.77780151e-01\n",
      "  1.02325439e-01  6.63955688e-01  1.97692871e-01  1.04904175e-01\n",
      "  1.13418579e-01 -3.25317383e-02  1.46697998e-01  4.64965820e-01\n",
      "  7.55691528e-01  2.03918457e-01  4.90097046e-01 -1.01196289e-01\n",
      "  6.61743164e-01  7.53509521e-01  9.00970459e-01  7.72949219e-01\n",
      "  2.73254395e-01  2.98126221e-01  1.87072754e-01  7.19848633e-01\n",
      "  2.29980469e-01  3.34655762e-01  8.51593018e-01  3.08227539e-02\n",
      " -3.66210938e-03 -7.81250000e-02  7.49832153e-01  2.04650879e-01\n",
      "  4.06158447e-01  3.32397461e-01  1.81915283e-01  8.23394775e-01\n",
      "  5.03128052e-01  6.34063721e-01 -5.06896973e-02  4.24804688e-02\n",
      "  1.11328125e-01  1.89331055e-01  6.00982666e-01  4.09072876e-01\n",
      "  6.87744141e-01  2.89825439e-01 -9.21020508e-02  4.47082520e-02\n",
      "  1.98883057e-01  6.18698120e-01  1.41769409e-01  6.98867798e-01\n",
      "  3.11889648e-01  1.26892090e-01  8.11431885e-01  6.25152588e-02\n",
      " -1.04492188e-01  6.61163330e-02  1.23748779e-01  5.18844604e-01\n",
      " -5.96771240e-02  6.39694214e-01 -1.29699707e-02  3.84521484e-02\n",
      " -1.04934692e-01  1.96746826e-01  3.36242676e-01  4.88098145e-01\n",
      "  1.94000244e-01  7.93319702e-01  1.69372559e-01  8.55407715e-02\n",
      "  1.68670654e-01  1.73156738e-01  3.23791504e-02  4.69299316e-01\n",
      "  2.03155518e-01  8.46710205e-01  4.20776367e-01  2.17987061e-01\n",
      "  1.81213379e-01  1.54891968e-01  7.26318359e-01  4.45220947e-01\n",
      "  4.87426758e-01  1.01608276e-01  4.13162231e-01 -1.13311768e-01\n",
      "  1.79397583e-01 -9.73510742e-03  1.39160156e-01  1.12121582e-01\n",
      "  6.09588623e-01  2.16369629e-02  1.88507080e-01 -1.35375977e-01\n",
      "  7.06481934e-01  4.33120728e-01 -5.83190918e-02  9.28741455e-01\n",
      "  5.40603638e-01 -1.69372559e-03  9.19204712e-01 -2.16674805e-02\n",
      "  1.65283203e-01  1.77764893e-01  4.72900391e-01 -2.79235840e-03\n",
      "  4.00299072e-01  1.42669678e-02  1.95434570e-01 -6.79626465e-02\n",
      "  5.87203979e-01  1.92535400e-01  2.33276367e-01  2.73696899e-01\n",
      "  9.40628052e-01  7.10052490e-01  1.33560181e-01  7.36083984e-02\n",
      "  5.58013916e-02 -2.26501465e-01  4.11224365e-02  5.17272949e-02\n",
      "  3.10058594e-02  2.93655396e-01  9.69329834e-01  7.98706055e-01\n",
      " -2.30102539e-02  5.27343750e-02  2.64877319e-01  1.75277710e-01\n",
      "  7.06359863e-01  1.73934937e-01  3.44360352e-01]\n"
     ]
    }
   ],
   "source": [
    "#Enter # Use the predict method on the testing data (X_test) to make predictions\n",
    "predictions = LinearReg.predict(X_test)\n",
    "\n",
    "# Print the predictions\n",
    "print(predictions)\n"
   ]
  },
  {
   "cell_type": "markdown",
   "id": "341e9f86-abfc-4676-baa7-865a672d19ff",
   "metadata": {},
   "source": [
    "### Q4) Using the predictions and the y_test dataframe calculate the value for each metric using the appropriate function."
   ]
  },
  {
   "cell_type": "code",
   "execution_count": 28,
   "id": "a9835de0-5010-4185-85bb-bdc285faec65",
   "metadata": {},
   "outputs": [
    {
     "name": "stdout",
     "output_type": "stream",
     "text": [
      "Evaluation Metrics:\n",
      "Accuracy: 0.84\n",
      "Jaccard Index: 0.51\n",
      "F1-Score: 0.68\n",
      "Mean Absolute Error: 0.26\n",
      "Mean Squared Error: 0.12\n",
      "R2-Score: 0.43\n"
     ]
    }
   ],
   "source": [
    "from sklearn.metrics import (\n",
    "    accuracy_score,\n",
    "    jaccard_score,\n",
    "    f1_score,\n",
    "    mean_absolute_error,\n",
    "    mean_squared_error,\n",
    "    r2_score\n",
    ")\n",
    "\n",
    "# Threshold predictions to get binary outcomes\n",
    "y_pred_binary = (predictions >= 0.5).astype(int)\n",
    "\n",
    "# Calculate metrics\n",
    "accuracy = accuracy_score(y_test, y_pred_binary)\n",
    "jaccard = jaccard_score(y_test, y_pred_binary)\n",
    "f1 = f1_score(y_test, y_pred_binary)\n",
    "mae = mean_absolute_error(y_test, predictions)\n",
    "mse = mean_squared_error(y_test, predictions)\n",
    "r2 = r2_score(y_test, predictions)\n",
    "\n",
    "# Print the results\n",
    "print(\"Evaluation Metrics:\")\n",
    "print(f\"Accuracy: {accuracy:.2f}\")\n",
    "print(f\"Jaccard Index: {jaccard:.2f}\")\n",
    "print(f\"F1-Score: {f1:.2f}\")\n",
    "print(f\"Mean Absolute Error: {mae:.2f}\")\n",
    "print(f\"Mean Squared Error: {mse:.2f}\")\n",
    "print(f\"R2-Score: {r2:.2f}\")\n"
   ]
  },
  {
   "cell_type": "markdown",
   "id": "ad835be9-f966-454e-ae76-5d5f001b0f04",
   "metadata": {},
   "source": [
    "### Q5) Show the MAE, MSE, and R2 in a tabular format using data frame for the linear model."
   ]
  },
  {
   "cell_type": "code",
   "execution_count": 29,
   "id": "202fa904-9a75-471d-a993-c6ba26cc6d92",
   "metadata": {},
   "outputs": [
    {
     "name": "stdout",
     "output_type": "stream",
     "text": [
      "                Metric     Value\n",
      "0  Mean Absolute Error  0.256325\n",
      "1   Mean Squared Error  0.115723\n",
      "2             R2 Score  0.427119\n"
     ]
    }
   ],
   "source": [
    "#Enter Yourimport pandas as pd\n",
    "\n",
    "# Create a DataFrame to hold the metrics\n",
    "linear_metrics = pd.DataFrame({\n",
    "    \"Metric\": [\"Mean Absolute Error\", \"Mean Squared Error\", \"R2 Score\"],\n",
    "    \"Value\": [mae, mse, r2]\n",
    "})\n",
    "\n",
    "# Display the metrics DataFrame\n",
    "print(linear_metrics)\n"
   ]
  },
  {
   "cell_type": "markdown",
   "id": "6ddc3d36-6686-47dc-9a4d-7cd176df2c4d",
   "metadata": {},
   "source": [
    "## KNN"
   ]
  },
  {
   "cell_type": "markdown",
   "id": "2dbb930b-1e7d-4f6f-8dc4-50fa3aeda61e",
   "metadata": {},
   "source": [
    "### Q6) Create and train a KNN model called KNN using the training data (x_train, y_train) with the n_neighbors parameter set to 4"
   ]
  },
  {
   "cell_type": "code",
   "execution_count": 31,
   "id": "c6fadea0-2868-4663-8109-40bf07ec8ca5",
   "metadata": {},
   "outputs": [
    {
     "data": {
      "text/html": [
       "<style>#sk-container-id-2 {color: black;background-color: white;}#sk-container-id-2 pre{padding: 0;}#sk-container-id-2 div.sk-toggleable {background-color: white;}#sk-container-id-2 label.sk-toggleable__label {cursor: pointer;display: block;width: 100%;margin-bottom: 0;padding: 0.3em;box-sizing: border-box;text-align: center;}#sk-container-id-2 label.sk-toggleable__label-arrow:before {content: \"▸\";float: left;margin-right: 0.25em;color: #696969;}#sk-container-id-2 label.sk-toggleable__label-arrow:hover:before {color: black;}#sk-container-id-2 div.sk-estimator:hover label.sk-toggleable__label-arrow:before {color: black;}#sk-container-id-2 div.sk-toggleable__content {max-height: 0;max-width: 0;overflow: hidden;text-align: left;background-color: #f0f8ff;}#sk-container-id-2 div.sk-toggleable__content pre {margin: 0.2em;color: black;border-radius: 0.25em;background-color: #f0f8ff;}#sk-container-id-2 input.sk-toggleable__control:checked~div.sk-toggleable__content {max-height: 200px;max-width: 100%;overflow: auto;}#sk-container-id-2 input.sk-toggleable__control:checked~label.sk-toggleable__label-arrow:before {content: \"▾\";}#sk-container-id-2 div.sk-estimator input.sk-toggleable__control:checked~label.sk-toggleable__label {background-color: #d4ebff;}#sk-container-id-2 div.sk-label input.sk-toggleable__control:checked~label.sk-toggleable__label {background-color: #d4ebff;}#sk-container-id-2 input.sk-hidden--visually {border: 0;clip: rect(1px 1px 1px 1px);clip: rect(1px, 1px, 1px, 1px);height: 1px;margin: -1px;overflow: hidden;padding: 0;position: absolute;width: 1px;}#sk-container-id-2 div.sk-estimator {font-family: monospace;background-color: #f0f8ff;border: 1px dotted black;border-radius: 0.25em;box-sizing: border-box;margin-bottom: 0.5em;}#sk-container-id-2 div.sk-estimator:hover {background-color: #d4ebff;}#sk-container-id-2 div.sk-parallel-item::after {content: \"\";width: 100%;border-bottom: 1px solid gray;flex-grow: 1;}#sk-container-id-2 div.sk-label:hover label.sk-toggleable__label {background-color: #d4ebff;}#sk-container-id-2 div.sk-serial::before {content: \"\";position: absolute;border-left: 1px solid gray;box-sizing: border-box;top: 0;bottom: 0;left: 50%;z-index: 0;}#sk-container-id-2 div.sk-serial {display: flex;flex-direction: column;align-items: center;background-color: white;padding-right: 0.2em;padding-left: 0.2em;position: relative;}#sk-container-id-2 div.sk-item {position: relative;z-index: 1;}#sk-container-id-2 div.sk-parallel {display: flex;align-items: stretch;justify-content: center;background-color: white;position: relative;}#sk-container-id-2 div.sk-item::before, #sk-container-id-2 div.sk-parallel-item::before {content: \"\";position: absolute;border-left: 1px solid gray;box-sizing: border-box;top: 0;bottom: 0;left: 50%;z-index: -1;}#sk-container-id-2 div.sk-parallel-item {display: flex;flex-direction: column;z-index: 1;position: relative;background-color: white;}#sk-container-id-2 div.sk-parallel-item:first-child::after {align-self: flex-end;width: 50%;}#sk-container-id-2 div.sk-parallel-item:last-child::after {align-self: flex-start;width: 50%;}#sk-container-id-2 div.sk-parallel-item:only-child::after {width: 0;}#sk-container-id-2 div.sk-dashed-wrapped {border: 1px dashed gray;margin: 0 0.4em 0.5em 0.4em;box-sizing: border-box;padding-bottom: 0.4em;background-color: white;}#sk-container-id-2 div.sk-label label {font-family: monospace;font-weight: bold;display: inline-block;line-height: 1.2em;}#sk-container-id-2 div.sk-label-container {text-align: center;}#sk-container-id-2 div.sk-container {/* jupyter's `normalize.less` sets `[hidden] { display: none; }` but bootstrap.min.css set `[hidden] { display: none !important; }` so we also need the `!important` here to be able to override the default hidden behavior on the sphinx rendered scikit-learn.org. See: https://github.com/scikit-learn/scikit-learn/issues/21755 */display: inline-block !important;position: relative;}#sk-container-id-2 div.sk-text-repr-fallback {display: none;}</style><div id=\"sk-container-id-2\" class=\"sk-top-container\"><div class=\"sk-text-repr-fallback\"><pre>KNeighborsClassifier(n_neighbors=4)</pre><b>In a Jupyter environment, please rerun this cell to show the HTML representation or trust the notebook. <br />On GitHub, the HTML representation is unable to render, please try loading this page with nbviewer.org.</b></div><div class=\"sk-container\" hidden><div class=\"sk-item\"><div class=\"sk-estimator sk-toggleable\"><input class=\"sk-toggleable__control sk-hidden--visually\" id=\"sk-estimator-id-2\" type=\"checkbox\" checked><label for=\"sk-estimator-id-2\" class=\"sk-toggleable__label sk-toggleable__label-arrow\">KNeighborsClassifier</label><div class=\"sk-toggleable__content\"><pre>KNeighborsClassifier(n_neighbors=4)</pre></div></div></div></div></div>"
      ],
      "text/plain": [
       "KNeighborsClassifier(n_neighbors=4)"
      ]
     },
     "execution_count": 31,
     "metadata": {},
     "output_type": "execute_result"
    }
   ],
   "source": [
    "#Enter Your Code and Execute\n",
    "from sklearn.neighbors import KNeighborsClassifier\n",
    "\n",
    "# Initialize the KNN model with n_neighbors set to 4\n",
    "KNN = KNeighborsClassifier(n_neighbors=4)\n",
    "\n",
    "# Train the model using the training data\n",
    "KNN.fit(X_train, y_train)\n"
   ]
  },
  {
   "cell_type": "markdown",
   "id": "c48d79dc-bb89-444f-a89a-db4fb438f970",
   "metadata": {},
   "source": [
    "### Q7) Now use the predict method on the testing data (x_test) and save it to the array predictions."
   ]
  },
  {
   "cell_type": "code",
   "execution_count": 32,
   "id": "d3b2b604-049c-46d1-be69-6aa299cb1109",
   "metadata": {},
   "outputs": [
    {
     "name": "stdout",
     "output_type": "stream",
     "text": [
      "[0 0 1 0 0 0 0 1 1 0 0 0 0 0 0 0 0 0 0 0 0 1 0 0 0 0 0 0 1 0 0 0 0 0 0 1 0\n",
      " 0 0 0 0 1 0 0 0 0 0 0 1 0 0 0 0 0 0 0 0 0 0 0 0 0 1 1 0 0 0 0 0 0 0 0 0 0\n",
      " 0 0 0 0 0 1 0 0 0 0 0 0 0 0 0 0 0 0 0 0 0 1 0 1 0 0 0 0 1 0 1 1 0 0 0 1 0\n",
      " 0 0 0 0 0 0 0 0 0 0 0 0 0 0 0 0 0 0 1 0 0 0 0 1 0 0 0 0 1 0 0 0 0 1 0 0 0\n",
      " 0 1 0 0 0 0 0 0 0 1 0 1 1 0 0 0 0 0 0 0 1 0 1 0 0 0 0 0 0 0 0 0 1 0 0 1 0\n",
      " 0 0 0 0 0 0 0 0 0 0 0 0 0 0 0 0 0 0 0 1 0 0 0 0 0 1 1 0 0 0 0 0 0 0 0 1 0\n",
      " 0 0 0 0 0 0 0 0 0 0 0 1 1 0 0 1 1 0 1 1 0 0 1 0 0 0 0 0 0 0 0 0 0 1 0 1 1\n",
      " 1 0 0 0 0 0 0 0 0 0 0 0 0 0 1 0 0 0 0 0 0 0 0 1 0 0 0 0 0 0 0 0 0 0 0 0 0\n",
      " 0 1 0 0 1 0 0 0 0 0 1 0 1 0 1 1 0 0 1 0 0 0 1 0 0 1 1 0 0 0 0 0 0 0 1 0 0\n",
      " 0 0 0 0 0 0 0 0 0 0 0 0 0 0 0 0 0 0 0 1 0 0 0 0 0 1 1 1 0 1 0 0 1 0 0 0 0\n",
      " 0 0 1 0 0 1 0 0 0 0 0 0 0 1 0 0 0 1 0 0 0 0 1 0 0 0 0 0 1 1 0 0 0 0 0 0 0\n",
      " 0 0 0 0 1 0 1 0 0 0 0 0 0 0 0 0 0 0 1 0 0 1 0 0 0 1 0 0 1 0 0 1 0 0 0 0 0\n",
      " 1 0 0 0 0 0 0 1 0 0 0 0 0 0 0 0 0 1 0 0 0 0 0 0 0 1 0 0 0 0 0 0 1 0 0 0 0\n",
      " 0 0 0 0 0 0 0 0 0 0 0 0 0 1 0 0 0 0 0 0 0 0 0 0 0 0 1 0 0 0 0 0 0 0 0 0 0\n",
      " 0 0 0 0 0 0 0 1 0 0 0 0 0 0 1 0 0 0 1 1 1 1 0 0 0 1 0 0 1 0 0 0 0 0 0 0 0\n",
      " 1 0 1 0 0 0 0 0 0 1 0 0 0 0 1 0 0 0 0 1 0 0 0 0 0 0 0 0 0 0 0 0 0 0 1 0 0\n",
      " 0 0 0 0 0 1 0 0 0 0 1 0 0 0 0 0 0 0 0 0 1 0 0 0 1 0 0 1 0 0 1 0 0 0 0 0 0\n",
      " 0 0 0 1 0 0 0 1 1 0 0 0 0 0 0 0 0 1 1 0 0 0 0 1 0 1]\n"
     ]
    }
   ],
   "source": [
    "#Enter # Use the predict method on the testing data (X_test) to make predictions\n",
    "predictions = KNN.predict(X_test)\n",
    "\n",
    "# Print the predictions\n",
    "print(predictions)\n"
   ]
  },
  {
   "cell_type": "markdown",
   "id": "56e0967d-7628-4931-aed6-c825792ffce0",
   "metadata": {},
   "source": [
    "### Q8) Using the predictions and the y_test dataframe calculate the value for each metric using the appropriate function."
   ]
  },
  {
   "cell_type": "code",
   "execution_count": 33,
   "id": "dc2399a4-135a-4040-9f7e-f4e3f4a16808",
   "metadata": {},
   "outputs": [
    {
     "name": "stdout",
     "output_type": "stream",
     "text": [
      "KNN Evaluation Metrics:\n",
      "Accuracy: 0.82\n",
      "Jaccard Index: 0.43\n",
      "F1-Score: 0.60\n",
      "Mean Absolute Error: 0.18\n",
      "Mean Squared Error: 0.18\n",
      "R2-Score: 0.10\n"
     ]
    }
   ],
   "source": [
    "#Enter Your Code and Execute\n",
    "from sklearn.metrics import (\n",
    "    accuracy_score,\n",
    "    jaccard_score,\n",
    "    f1_score,\n",
    "    mean_absolute_error,\n",
    "    mean_squared_error,\n",
    "    r2_score\n",
    ")\n",
    "\n",
    "# Calculate metrics\n",
    "accuracy = accuracy_score(y_test, predictions)\n",
    "jaccard = jaccard_score(y_test, predictions)\n",
    "f1 = f1_score(y_test, predictions)\n",
    "mae = mean_absolute_error(y_test, predictions)\n",
    "mse = mean_squared_error(y_test, predictions)\n",
    "r2 = r2_score(y_test, predictions)\n",
    "\n",
    "# Print the results\n",
    "print(\"KNN Evaluation Metrics:\")\n",
    "print(f\"Accuracy: {accuracy:.2f}\")\n",
    "print(f\"Jaccard Index: {jaccard:.2f}\")\n",
    "print(f\"F1-Score: {f1:.2f}\")\n",
    "print(f\"Mean Absolute Error: {mae:.2f}\")\n",
    "print(f\"Mean Squared Error: {mse:.2f}\")\n",
    "print(f\"R2-Score: {r2:.2f}\")\n"
   ]
  },
  {
   "cell_type": "markdown",
   "id": "8a0df28d-4dc5-4d09-be71-7ae042a7678b",
   "metadata": {},
   "source": [
    "## Decision Tree"
   ]
  },
  {
   "cell_type": "markdown",
   "id": "737ea0ca-d33c-46a1-93c0-6b3c9bc6add8",
   "metadata": {},
   "source": [
    "### Q9) Create and train a Decision Tree model called Tree using the training data (x_train, y_train)."
   ]
  },
  {
   "cell_type": "code",
   "execution_count": 34,
   "id": "4fc2a96b-0236-45f4-a8a5-f594ce347848",
   "metadata": {},
   "outputs": [],
   "source": [
    "import pandas as pd\n",
    "from sklearn.model_selection import train_test_split\n",
    "from sklearn.linear_model import LinearRegression\n",
    "from sklearn.neighbors import KNeighborsClassifier\n",
    "from sklearn.tree import DecisionTreeClassifier\n",
    "from sklearn.metrics import (\n",
    "    accuracy_score,\n",
    "    jaccard_score,\n",
    "    f1_score,\n",
    "    mean_absolute_error,\n",
    "    mean_squared_error,\n",
    "    r2_score\n",
    ")\n"
   ]
  },
  {
   "cell_type": "code",
   "execution_count": 35,
   "id": "012de682-f7cc-412a-9c2d-720a7d957451",
   "metadata": {},
   "outputs": [
    {
     "data": {
      "text/html": [
       "<style>#sk-container-id-3 {color: black;background-color: white;}#sk-container-id-3 pre{padding: 0;}#sk-container-id-3 div.sk-toggleable {background-color: white;}#sk-container-id-3 label.sk-toggleable__label {cursor: pointer;display: block;width: 100%;margin-bottom: 0;padding: 0.3em;box-sizing: border-box;text-align: center;}#sk-container-id-3 label.sk-toggleable__label-arrow:before {content: \"▸\";float: left;margin-right: 0.25em;color: #696969;}#sk-container-id-3 label.sk-toggleable__label-arrow:hover:before {color: black;}#sk-container-id-3 div.sk-estimator:hover label.sk-toggleable__label-arrow:before {color: black;}#sk-container-id-3 div.sk-toggleable__content {max-height: 0;max-width: 0;overflow: hidden;text-align: left;background-color: #f0f8ff;}#sk-container-id-3 div.sk-toggleable__content pre {margin: 0.2em;color: black;border-radius: 0.25em;background-color: #f0f8ff;}#sk-container-id-3 input.sk-toggleable__control:checked~div.sk-toggleable__content {max-height: 200px;max-width: 100%;overflow: auto;}#sk-container-id-3 input.sk-toggleable__control:checked~label.sk-toggleable__label-arrow:before {content: \"▾\";}#sk-container-id-3 div.sk-estimator input.sk-toggleable__control:checked~label.sk-toggleable__label {background-color: #d4ebff;}#sk-container-id-3 div.sk-label input.sk-toggleable__control:checked~label.sk-toggleable__label {background-color: #d4ebff;}#sk-container-id-3 input.sk-hidden--visually {border: 0;clip: rect(1px 1px 1px 1px);clip: rect(1px, 1px, 1px, 1px);height: 1px;margin: -1px;overflow: hidden;padding: 0;position: absolute;width: 1px;}#sk-container-id-3 div.sk-estimator {font-family: monospace;background-color: #f0f8ff;border: 1px dotted black;border-radius: 0.25em;box-sizing: border-box;margin-bottom: 0.5em;}#sk-container-id-3 div.sk-estimator:hover {background-color: #d4ebff;}#sk-container-id-3 div.sk-parallel-item::after {content: \"\";width: 100%;border-bottom: 1px solid gray;flex-grow: 1;}#sk-container-id-3 div.sk-label:hover label.sk-toggleable__label {background-color: #d4ebff;}#sk-container-id-3 div.sk-serial::before {content: \"\";position: absolute;border-left: 1px solid gray;box-sizing: border-box;top: 0;bottom: 0;left: 50%;z-index: 0;}#sk-container-id-3 div.sk-serial {display: flex;flex-direction: column;align-items: center;background-color: white;padding-right: 0.2em;padding-left: 0.2em;position: relative;}#sk-container-id-3 div.sk-item {position: relative;z-index: 1;}#sk-container-id-3 div.sk-parallel {display: flex;align-items: stretch;justify-content: center;background-color: white;position: relative;}#sk-container-id-3 div.sk-item::before, #sk-container-id-3 div.sk-parallel-item::before {content: \"\";position: absolute;border-left: 1px solid gray;box-sizing: border-box;top: 0;bottom: 0;left: 50%;z-index: -1;}#sk-container-id-3 div.sk-parallel-item {display: flex;flex-direction: column;z-index: 1;position: relative;background-color: white;}#sk-container-id-3 div.sk-parallel-item:first-child::after {align-self: flex-end;width: 50%;}#sk-container-id-3 div.sk-parallel-item:last-child::after {align-self: flex-start;width: 50%;}#sk-container-id-3 div.sk-parallel-item:only-child::after {width: 0;}#sk-container-id-3 div.sk-dashed-wrapped {border: 1px dashed gray;margin: 0 0.4em 0.5em 0.4em;box-sizing: border-box;padding-bottom: 0.4em;background-color: white;}#sk-container-id-3 div.sk-label label {font-family: monospace;font-weight: bold;display: inline-block;line-height: 1.2em;}#sk-container-id-3 div.sk-label-container {text-align: center;}#sk-container-id-3 div.sk-container {/* jupyter's `normalize.less` sets `[hidden] { display: none; }` but bootstrap.min.css set `[hidden] { display: none !important; }` so we also need the `!important` here to be able to override the default hidden behavior on the sphinx rendered scikit-learn.org. See: https://github.com/scikit-learn/scikit-learn/issues/21755 */display: inline-block !important;position: relative;}#sk-container-id-3 div.sk-text-repr-fallback {display: none;}</style><div id=\"sk-container-id-3\" class=\"sk-top-container\"><div class=\"sk-text-repr-fallback\"><pre>DecisionTreeClassifier()</pre><b>In a Jupyter environment, please rerun this cell to show the HTML representation or trust the notebook. <br />On GitHub, the HTML representation is unable to render, please try loading this page with nbviewer.org.</b></div><div class=\"sk-container\" hidden><div class=\"sk-item\"><div class=\"sk-estimator sk-toggleable\"><input class=\"sk-toggleable__control sk-hidden--visually\" id=\"sk-estimator-id-3\" type=\"checkbox\" checked><label for=\"sk-estimator-id-3\" class=\"sk-toggleable__label sk-toggleable__label-arrow\">DecisionTreeClassifier</label><div class=\"sk-toggleable__content\"><pre>DecisionTreeClassifier()</pre></div></div></div></div></div>"
      ],
      "text/plain": [
       "DecisionTreeClassifier()"
      ]
     },
     "execution_count": 35,
     "metadata": {},
     "output_type": "execute_result"
    }
   ],
   "source": [
    "#Enterfrom sklearn.tree import DecisionTreeClassifier\n",
    "\n",
    "# Initialize the Decision Tree model\n",
    "Tree = DecisionTreeClassifier()\n",
    "\n",
    "# Train the model using the training data\n",
    "Tree.fit(X_train, y_train)\n"
   ]
  },
  {
   "cell_type": "markdown",
   "id": "081bab80-a77b-4ae5-b976-130ebc6a3439",
   "metadata": {},
   "source": [
    "### Q10) Now use the predict method on the testing data (x_test) and save it to the array predictions."
   ]
  },
  {
   "cell_type": "code",
   "execution_count": 36,
   "id": "bb1fdcba-6ca8-4d6a-907b-ef03d81302cf",
   "metadata": {},
   "outputs": [
    {
     "name": "stdout",
     "output_type": "stream",
     "text": [
      "[0 0 1 0 0 0 0 1 1 1 0 0 0 0 0 0 0 1 0 0 0 1 0 0 0 1 0 0 1 0 0 0 0 0 0 1 0\n",
      " 0 0 0 0 0 0 0 1 1 0 0 1 0 0 0 0 0 0 0 0 1 1 0 0 0 1 1 0 0 1 0 0 0 0 0 0 0\n",
      " 0 0 1 0 0 1 0 0 0 0 0 0 1 1 1 0 0 0 0 0 0 1 0 1 0 0 0 0 1 0 1 1 0 1 0 1 1\n",
      " 0 0 0 0 0 0 1 0 0 0 0 0 0 0 0 1 1 0 1 1 0 1 0 0 0 0 0 0 1 1 0 0 0 1 0 0 0\n",
      " 0 0 0 1 0 0 0 0 0 1 0 1 1 0 0 0 0 0 0 1 0 0 1 0 0 0 0 0 0 0 0 0 1 0 0 1 0\n",
      " 0 0 0 0 0 0 1 0 0 0 0 0 0 0 0 1 0 0 0 1 0 0 0 0 1 0 0 1 0 0 0 0 0 1 0 1 0\n",
      " 0 0 0 1 1 0 0 1 0 0 1 1 1 0 0 1 1 0 1 1 0 0 0 0 1 0 0 1 0 0 0 1 0 1 1 0 1\n",
      " 1 1 0 1 0 0 0 0 0 1 0 0 0 0 1 1 0 1 0 0 0 0 0 1 0 1 0 0 0 0 0 0 0 0 0 0 0\n",
      " 0 1 0 0 1 0 0 0 0 0 1 0 1 0 1 1 0 0 1 0 1 0 0 1 0 0 1 0 0 0 0 0 0 1 1 0 0\n",
      " 0 0 0 0 1 0 0 0 0 0 0 0 0 0 0 0 0 0 0 1 0 0 0 0 1 1 0 0 0 1 1 1 1 0 1 0 1\n",
      " 1 0 1 1 0 1 0 0 0 0 0 1 0 1 0 0 0 0 0 0 0 0 1 0 0 0 1 0 1 1 0 0 0 1 0 0 0\n",
      " 0 0 0 1 0 0 1 0 0 0 0 1 0 0 0 0 0 0 1 1 0 1 0 0 0 0 0 1 1 0 0 1 0 1 0 0 1\n",
      " 1 1 0 0 1 1 0 0 0 0 0 0 1 0 1 0 0 0 0 0 0 0 0 0 0 1 0 0 0 1 1 0 1 0 1 0 1\n",
      " 0 1 0 0 0 0 0 0 0 0 0 0 0 1 0 0 0 1 0 0 1 1 0 0 0 1 0 1 0 0 1 0 1 1 0 0 0\n",
      " 0 0 0 0 1 0 0 1 0 0 0 0 0 0 1 1 0 0 1 1 1 1 0 1 0 1 0 1 1 1 0 0 0 0 0 0 1\n",
      " 1 1 0 0 0 0 1 0 1 1 0 0 0 0 1 0 0 0 0 1 0 0 0 0 0 0 1 0 0 0 1 1 0 0 1 0 0\n",
      " 0 0 0 0 0 1 0 0 0 0 1 0 0 0 1 0 1 0 1 0 1 0 1 0 1 0 0 1 1 0 1 0 0 0 0 0 0\n",
      " 0 0 0 1 0 0 0 1 1 1 1 0 0 0 0 0 0 1 1 0 0 0 1 1 0 0]\n"
     ]
    }
   ],
   "source": [
    "#Enter # Use the predict method on the testing data (X_test) to make predictions\n",
    "predictions = Tree.predict(X_test)\n",
    "\n",
    "# Print the predictions\n",
    "print(predictions)\n"
   ]
  },
  {
   "cell_type": "markdown",
   "id": "8c07f114-ee0d-4085-ab26-360421f980a7",
   "metadata": {},
   "source": [
    "### Q11) Using the predictions and the y_test dataframe calculate the value for each metric using the appropriate function"
   ]
  },
  {
   "cell_type": "code",
   "execution_count": 37,
   "id": "b0d7999d-f685-4140-a3d3-81fbd4045824",
   "metadata": {},
   "outputs": [
    {
     "name": "stdout",
     "output_type": "stream",
     "text": [
      "Decision Tree Evaluation Metrics:\n",
      "Tree_Accuracy: 0.74\n",
      "Tree_Jaccard Index: 0.38\n",
      "Tree_F1-Score: 0.55\n",
      "Mean Absolute Error: 0.26\n",
      "Mean Squared Error: 0.26\n",
      "R2-Score: -0.28\n"
     ]
    }
   ],
   "source": [
    "#Enter Y# Calculate metrics\n",
    "accuracy = accuracy_score(y_test, predictions)\n",
    "jaccard = jaccard_score(y_test, predictions)\n",
    "f1 = f1_score(y_test, predictions)\n",
    "mae = mean_absolute_error(y_test, predictions)\n",
    "mse = mean_squared_error(y_test, predictions)\n",
    "r2 = r2_score(y_test, predictions)\n",
    "\n",
    "# Print the results\n",
    "print(\"Decision Tree Evaluation Metrics:\")\n",
    "print(f\"Tree_Accuracy: {accuracy:.2f}\")\n",
    "print(f\"Tree_Jaccard Index: {jaccard:.2f}\")\n",
    "print(f\"Tree_F1-Score: {f1:.2f}\")\n",
    "print(f\"Mean Absolute Error: {mae:.2f}\")\n",
    "print(f\"Mean Squared Error: {mse:.2f}\")\n",
    "print(f\"R2-Score: {r2:.2f}\")\n"
   ]
  },
  {
   "cell_type": "markdown",
   "id": "5ff05702-e6af-4a58-ae22-f9e92d6b14d8",
   "metadata": {},
   "source": [
    "## Logistic Regression"
   ]
  },
  {
   "cell_type": "markdown",
   "id": "f6809afd-5ece-4204-8094-a70aa53ac3b1",
   "metadata": {},
   "source": [
    "### Q12) Use the train_test_split function to split the features and Y dataframes with a test_size of 0.2 and the random_state set to 1"
   ]
  },
  {
   "cell_type": "code",
   "execution_count": 38,
   "id": "c02c9e66-cb16-4418-bb57-09aef1bd8f3d",
   "metadata": {},
   "outputs": [],
   "source": [
    "#Enterfrom sklearn.model_selection import train_test_split\n",
    "\n",
    "# Define features and target variable again if needed\n",
    "X = df.drop(columns=['RainTomorrow', 'Date'], errors='ignore')  # Drop 'Date' if it exists\n",
    "y = df['RainTomorrow'].map({'Yes': 1, 'No': 0})\n",
    "\n",
    "# Use train_test_split with test_size of 0.2 and random_state set to 1\n",
    "X_train, X_test, y_train, y_test = train_test_split(X, y, test_size=0.2, random_state=1)\n"
   ]
  },
  {
   "cell_type": "markdown",
   "id": "60a909bf-937b-489b-8a7e-bd874e7b892c",
   "metadata": {},
   "source": [
    "### Q13) Create and train a LogisticRegression model called LR using the training data (x_train, y_train) with the solver parameter set to liblinear."
   ]
  },
  {
   "cell_type": "code",
   "execution_count": 41,
   "id": "87389c3a-0346-4f8b-9ffb-8a3952d3b3b6",
   "metadata": {},
   "outputs": [
    {
     "data": {
      "text/html": [
       "<style>#sk-container-id-5 {color: black;background-color: white;}#sk-container-id-5 pre{padding: 0;}#sk-container-id-5 div.sk-toggleable {background-color: white;}#sk-container-id-5 label.sk-toggleable__label {cursor: pointer;display: block;width: 100%;margin-bottom: 0;padding: 0.3em;box-sizing: border-box;text-align: center;}#sk-container-id-5 label.sk-toggleable__label-arrow:before {content: \"▸\";float: left;margin-right: 0.25em;color: #696969;}#sk-container-id-5 label.sk-toggleable__label-arrow:hover:before {color: black;}#sk-container-id-5 div.sk-estimator:hover label.sk-toggleable__label-arrow:before {color: black;}#sk-container-id-5 div.sk-toggleable__content {max-height: 0;max-width: 0;overflow: hidden;text-align: left;background-color: #f0f8ff;}#sk-container-id-5 div.sk-toggleable__content pre {margin: 0.2em;color: black;border-radius: 0.25em;background-color: #f0f8ff;}#sk-container-id-5 input.sk-toggleable__control:checked~div.sk-toggleable__content {max-height: 200px;max-width: 100%;overflow: auto;}#sk-container-id-5 input.sk-toggleable__control:checked~label.sk-toggleable__label-arrow:before {content: \"▾\";}#sk-container-id-5 div.sk-estimator input.sk-toggleable__control:checked~label.sk-toggleable__label {background-color: #d4ebff;}#sk-container-id-5 div.sk-label input.sk-toggleable__control:checked~label.sk-toggleable__label {background-color: #d4ebff;}#sk-container-id-5 input.sk-hidden--visually {border: 0;clip: rect(1px 1px 1px 1px);clip: rect(1px, 1px, 1px, 1px);height: 1px;margin: -1px;overflow: hidden;padding: 0;position: absolute;width: 1px;}#sk-container-id-5 div.sk-estimator {font-family: monospace;background-color: #f0f8ff;border: 1px dotted black;border-radius: 0.25em;box-sizing: border-box;margin-bottom: 0.5em;}#sk-container-id-5 div.sk-estimator:hover {background-color: #d4ebff;}#sk-container-id-5 div.sk-parallel-item::after {content: \"\";width: 100%;border-bottom: 1px solid gray;flex-grow: 1;}#sk-container-id-5 div.sk-label:hover label.sk-toggleable__label {background-color: #d4ebff;}#sk-container-id-5 div.sk-serial::before {content: \"\";position: absolute;border-left: 1px solid gray;box-sizing: border-box;top: 0;bottom: 0;left: 50%;z-index: 0;}#sk-container-id-5 div.sk-serial {display: flex;flex-direction: column;align-items: center;background-color: white;padding-right: 0.2em;padding-left: 0.2em;position: relative;}#sk-container-id-5 div.sk-item {position: relative;z-index: 1;}#sk-container-id-5 div.sk-parallel {display: flex;align-items: stretch;justify-content: center;background-color: white;position: relative;}#sk-container-id-5 div.sk-item::before, #sk-container-id-5 div.sk-parallel-item::before {content: \"\";position: absolute;border-left: 1px solid gray;box-sizing: border-box;top: 0;bottom: 0;left: 50%;z-index: -1;}#sk-container-id-5 div.sk-parallel-item {display: flex;flex-direction: column;z-index: 1;position: relative;background-color: white;}#sk-container-id-5 div.sk-parallel-item:first-child::after {align-self: flex-end;width: 50%;}#sk-container-id-5 div.sk-parallel-item:last-child::after {align-self: flex-start;width: 50%;}#sk-container-id-5 div.sk-parallel-item:only-child::after {width: 0;}#sk-container-id-5 div.sk-dashed-wrapped {border: 1px dashed gray;margin: 0 0.4em 0.5em 0.4em;box-sizing: border-box;padding-bottom: 0.4em;background-color: white;}#sk-container-id-5 div.sk-label label {font-family: monospace;font-weight: bold;display: inline-block;line-height: 1.2em;}#sk-container-id-5 div.sk-label-container {text-align: center;}#sk-container-id-5 div.sk-container {/* jupyter's `normalize.less` sets `[hidden] { display: none; }` but bootstrap.min.css set `[hidden] { display: none !important; }` so we also need the `!important` here to be able to override the default hidden behavior on the sphinx rendered scikit-learn.org. See: https://github.com/scikit-learn/scikit-learn/issues/21755 */display: inline-block !important;position: relative;}#sk-container-id-5 div.sk-text-repr-fallback {display: none;}</style><div id=\"sk-container-id-5\" class=\"sk-top-container\"><div class=\"sk-text-repr-fallback\"><pre>LogisticRegression(solver=&#x27;liblinear&#x27;)</pre><b>In a Jupyter environment, please rerun this cell to show the HTML representation or trust the notebook. <br />On GitHub, the HTML representation is unable to render, please try loading this page with nbviewer.org.</b></div><div class=\"sk-container\" hidden><div class=\"sk-item\"><div class=\"sk-estimator sk-toggleable\"><input class=\"sk-toggleable__control sk-hidden--visually\" id=\"sk-estimator-id-5\" type=\"checkbox\" checked><label for=\"sk-estimator-id-5\" class=\"sk-toggleable__label sk-toggleable__label-arrow\">LogisticRegression</label><div class=\"sk-toggleable__content\"><pre>LogisticRegression(solver=&#x27;liblinear&#x27;)</pre></div></div></div></div></div>"
      ],
      "text/plain": [
       "LogisticRegression(solver='liblinear')"
      ]
     },
     "execution_count": 41,
     "metadata": {},
     "output_type": "execute_result"
    }
   ],
   "source": [
    "from sklearn.linear_model import LogisticRegression\n",
    "\n",
    "# Initialize the Logistic Regression model with solver set to 'liblinear'\n",
    "LR = LogisticRegression(solver='liblinear')\n",
    "\n",
    "# Train the model using the training data\n",
    "LR.fit(X_train, y_train)\n",
    "#Enter Your Code and Execute"
   ]
  },
  {
   "cell_type": "markdown",
   "id": "46adfab5-c780-4c1e-9df8-15f8640bf6b3",
   "metadata": {},
   "source": [
    "### Q14) Now, use the predict and predict_proba methods on the testing data (x_test) and save it as 2 arrays predictions and predict_proba."
   ]
  },
  {
   "cell_type": "code",
   "execution_count": 42,
   "id": "f8aff3eb-5a26-49fb-82d3-2dafd45b8a42",
   "metadata": {},
   "outputs": [
    {
     "name": "stdout",
     "output_type": "stream",
     "text": [
      "Predictions: [0 0 0 0 0 1 0 0 0 0 1 1 0 0 0 0 1 0 0 0 1 1 0 0 0 0 0 0 0 0 1 0 0 1 1 1 1\n",
      " 0 1 0 0 0 0 0 0 0 0 0 0 0 1 0 1 0 1 1 0 0 0 0 0 0 0 0 0 0 0 0 0 0 0 1 0 0\n",
      " 0 0 0 0 0 0 0 0 0 0 1 0 0 0 1 0 0 1 0 0 1 0 0 0 0 0 0 1 0 1 1 0 0 0 0 0 0\n",
      " 0 1 1 0 0 1 0 0 0 1 0 0 0 0 0 0 0 0 0 0 0 0 0 1 0 0 0 0 1 0 1 0 0 0 1 0 1\n",
      " 1 0 0 0 1 0 0 1 0 0 1 0 1 0 1 1 0 0 0 0 0 0 0 0 0 1 0 0 0 0 0 1 1 0 0 0 1\n",
      " 1 0 0 0 0 0 0 1 0 0 1 0 1 0 0 0 0 0 0 0 1 1 0 0 1 0 0 0 1 0 0 0 1 0 0 0 1\n",
      " 0 1 1 0 0 0 0 0 1 1 0 0 0 0 0 0 0 1 0 0 1 0 0 0 1 1 1 0 0 0 0 0 1 0 0 0 0\n",
      " 1 1 1 0 0 0 0 0 0 0 0 0 0 0 0 0 0 0 0 1 0 0 0 1 1 1 0 0 0 0 1 1 0 0 0 0 1\n",
      " 0 0 0 0 1 0 0 0 0 1 1 0 0 0 1 0 0 0 0 1 0 0 0 0 0 0 0 0 0 1 0 0 1 1 0 0 1\n",
      " 0 0 0 0 0 0 0 1 1 0 0 1 1 1 0 1 0 0 1 0 0 0 0 0 0 0 0 0 0 0 0 0 1 0 0 0 0\n",
      " 0 0 0 0 0 1 0 0 1 0 0 0 0 0 0 0 0 0 1 1 0 0 0 0 0 0 1 0 0 0 0 0 0 0 0 0 0\n",
      " 0 0 0 0 0 0 0 0 0 0 0 0 0 0 0 0 0 0 0 0 0 0 0 0 0 1 1 0 0 0 0 0 0 1 1 1 0\n",
      " 0 0 1 0 1 0 0 0 0 1 0 0 0 0 0 0 1 0 0 1 1 0 0 1 0 0 0 0 0 1 0 0 1 0 0 0 0\n",
      " 0 0 0 0 0 1 0 0 1 1 0 1 0 0 0 0 0 1 0 0 1 0 0 0 0 0 0 1 0 0 0 0 0 0 1 0 0\n",
      " 1 0 0 0 0 0 0 0 0 0 0 0 0 0 0 0 1 0 1 0 0 1 0 0 0 0 0 1 0 0 0 0 0 0 0 0 0\n",
      " 0 0 0 0 0 0 0 1 1 0 0 0 0 0 0 0 1 1 0 0 0 0 0 0 0 0 0 0 1 0 1 0 0 0 0 1 0\n",
      " 0 0 0 0 0 0 1 1 0 0 1 0 0 0 0 0 0 0 0 0 0 0 0 0 1 0 0 0 0 1 0 1 0 0 1 0 0\n",
      " 0 0 1 0 0 0 1 0 0 0 1 0 1 0 0 1 0 0 0 1 0 1 0 0 0 1]\n",
      "Predicted Probabilities: [[0.74087112 0.25912888]\n",
      " [0.97444658 0.02555342]\n",
      " [0.52599984 0.47400016]\n",
      " ...\n",
      " [0.97879482 0.02120518]\n",
      " [0.70338555 0.29661445]\n",
      " [0.21208177 0.78791823]]\n"
     ]
    }
   ],
   "source": [
    "#Enter# Use the predict method to make predictions\n",
    "predictions = LR.predict(X_test)\n",
    "\n",
    "# Use the predict_proba method to get probability estimates\n",
    "predict_proba = LR.predict_proba(X_test)\n",
    "\n",
    "# Print the predictions and predicted probabilities\n",
    "print(\"Predictions:\", predictions)\n",
    "print(\"Predicted Probabilities:\", predict_proba)\n"
   ]
  },
  {
   "cell_type": "markdown",
   "id": "41869fa1-4a68-4ec6-b958-2dbe74d99071",
   "metadata": {},
   "source": [
    "### Q15) Using the predictions, predict_proba and the y_test dataframe calculate the value for each metric using the appropriate function."
   ]
  },
  {
   "cell_type": "code",
   "execution_count": 43,
   "id": "ac789df8-c933-4dec-b4df-fd8bf5b09e04",
   "metadata": {},
   "outputs": [
    {
     "name": "stdout",
     "output_type": "stream",
     "text": [
      "Logistic Regression Evaluation Metrics:\n",
      "LR_Accuracy: 0.83\n",
      "LR_Jaccard Index: 0.50\n",
      "LR_F1-Score: 0.67\n",
      "Mean Absolute Error: 0.17\n",
      "Mean Squared Error: 0.17\n",
      "R2-Score: 0.17\n",
      "LR_LogLoss: 0.38\n"
     ]
    }
   ],
   "source": [
    "\n",
    "from sklearn.metrics import (\n",
    "    accuracy_score,\n",
    "    jaccard_score,\n",
    "    f1_score,\n",
    "    log_loss,\n",
    "    mean_absolute_error,\n",
    "    mean_squared_error,\n",
    "    r2_score\n",
    ")\n",
    "\n",
    "# Calculate metrics\n",
    "accuracy = accuracy_score(y_test, predictions)\n",
    "jaccard = jaccard_score(y_test, predictions)\n",
    "f1 = f1_score(y_test, predictions)\n",
    "mae = mean_absolute_error(y_test, predictions)\n",
    "mse = mean_squared_error(y_test, predictions)\n",
    "r2 = r2_score(y_test, predictions)\n",
    "logloss = log_loss(y_test, predict_proba)\n",
    "\n",
    "# Print the results\n",
    "print(\"Logistic Regression Evaluation Metrics:\")\n",
    "print(f\"LR_Accuracy: {accuracy:.2f}\")\n",
    "print(f\"LR_Jaccard Index: {jaccard:.2f}\")\n",
    "print(f\"LR_F1-Score: {f1:.2f}\")\n",
    "print(f\"Mean Absolute Error: {mae:.2f}\")\n",
    "print(f\"Mean Squared Error: {mse:.2f}\")\n",
    "print(f\"R2-Score: {r2:.2f}\")\n",
    "print(f\"LR_LogLoss: {logloss:.2f}\")\n"
   ]
  },
  {
   "cell_type": "markdown",
   "id": "523c6867-40b9-40df-a709-a5ed2e6aff60",
   "metadata": {},
   "source": [
    "## SVM"
   ]
  },
  {
   "cell_type": "markdown",
   "id": "39568ff9-313f-46f1-ae4f-94f5b8628a64",
   "metadata": {},
   "source": [
    "### Q16) Create and train a SVM model called SVM using the training data (x_train, y_train)."
   ]
  },
  {
   "cell_type": "code",
   "execution_count": 44,
   "id": "6770dcdb-2d10-4324-9cce-f51a0165bbb8",
   "metadata": {},
   "outputs": [
    {
     "data": {
      "text/html": [
       "<style>#sk-container-id-6 {color: black;background-color: white;}#sk-container-id-6 pre{padding: 0;}#sk-container-id-6 div.sk-toggleable {background-color: white;}#sk-container-id-6 label.sk-toggleable__label {cursor: pointer;display: block;width: 100%;margin-bottom: 0;padding: 0.3em;box-sizing: border-box;text-align: center;}#sk-container-id-6 label.sk-toggleable__label-arrow:before {content: \"▸\";float: left;margin-right: 0.25em;color: #696969;}#sk-container-id-6 label.sk-toggleable__label-arrow:hover:before {color: black;}#sk-container-id-6 div.sk-estimator:hover label.sk-toggleable__label-arrow:before {color: black;}#sk-container-id-6 div.sk-toggleable__content {max-height: 0;max-width: 0;overflow: hidden;text-align: left;background-color: #f0f8ff;}#sk-container-id-6 div.sk-toggleable__content pre {margin: 0.2em;color: black;border-radius: 0.25em;background-color: #f0f8ff;}#sk-container-id-6 input.sk-toggleable__control:checked~div.sk-toggleable__content {max-height: 200px;max-width: 100%;overflow: auto;}#sk-container-id-6 input.sk-toggleable__control:checked~label.sk-toggleable__label-arrow:before {content: \"▾\";}#sk-container-id-6 div.sk-estimator input.sk-toggleable__control:checked~label.sk-toggleable__label {background-color: #d4ebff;}#sk-container-id-6 div.sk-label input.sk-toggleable__control:checked~label.sk-toggleable__label {background-color: #d4ebff;}#sk-container-id-6 input.sk-hidden--visually {border: 0;clip: rect(1px 1px 1px 1px);clip: rect(1px, 1px, 1px, 1px);height: 1px;margin: -1px;overflow: hidden;padding: 0;position: absolute;width: 1px;}#sk-container-id-6 div.sk-estimator {font-family: monospace;background-color: #f0f8ff;border: 1px dotted black;border-radius: 0.25em;box-sizing: border-box;margin-bottom: 0.5em;}#sk-container-id-6 div.sk-estimator:hover {background-color: #d4ebff;}#sk-container-id-6 div.sk-parallel-item::after {content: \"\";width: 100%;border-bottom: 1px solid gray;flex-grow: 1;}#sk-container-id-6 div.sk-label:hover label.sk-toggleable__label {background-color: #d4ebff;}#sk-container-id-6 div.sk-serial::before {content: \"\";position: absolute;border-left: 1px solid gray;box-sizing: border-box;top: 0;bottom: 0;left: 50%;z-index: 0;}#sk-container-id-6 div.sk-serial {display: flex;flex-direction: column;align-items: center;background-color: white;padding-right: 0.2em;padding-left: 0.2em;position: relative;}#sk-container-id-6 div.sk-item {position: relative;z-index: 1;}#sk-container-id-6 div.sk-parallel {display: flex;align-items: stretch;justify-content: center;background-color: white;position: relative;}#sk-container-id-6 div.sk-item::before, #sk-container-id-6 div.sk-parallel-item::before {content: \"\";position: absolute;border-left: 1px solid gray;box-sizing: border-box;top: 0;bottom: 0;left: 50%;z-index: -1;}#sk-container-id-6 div.sk-parallel-item {display: flex;flex-direction: column;z-index: 1;position: relative;background-color: white;}#sk-container-id-6 div.sk-parallel-item:first-child::after {align-self: flex-end;width: 50%;}#sk-container-id-6 div.sk-parallel-item:last-child::after {align-self: flex-start;width: 50%;}#sk-container-id-6 div.sk-parallel-item:only-child::after {width: 0;}#sk-container-id-6 div.sk-dashed-wrapped {border: 1px dashed gray;margin: 0 0.4em 0.5em 0.4em;box-sizing: border-box;padding-bottom: 0.4em;background-color: white;}#sk-container-id-6 div.sk-label label {font-family: monospace;font-weight: bold;display: inline-block;line-height: 1.2em;}#sk-container-id-6 div.sk-label-container {text-align: center;}#sk-container-id-6 div.sk-container {/* jupyter's `normalize.less` sets `[hidden] { display: none; }` but bootstrap.min.css set `[hidden] { display: none !important; }` so we also need the `!important` here to be able to override the default hidden behavior on the sphinx rendered scikit-learn.org. See: https://github.com/scikit-learn/scikit-learn/issues/21755 */display: inline-block !important;position: relative;}#sk-container-id-6 div.sk-text-repr-fallback {display: none;}</style><div id=\"sk-container-id-6\" class=\"sk-top-container\"><div class=\"sk-text-repr-fallback\"><pre>SVC(probability=True)</pre><b>In a Jupyter environment, please rerun this cell to show the HTML representation or trust the notebook. <br />On GitHub, the HTML representation is unable to render, please try loading this page with nbviewer.org.</b></div><div class=\"sk-container\" hidden><div class=\"sk-item\"><div class=\"sk-estimator sk-toggleable\"><input class=\"sk-toggleable__control sk-hidden--visually\" id=\"sk-estimator-id-6\" type=\"checkbox\" checked><label for=\"sk-estimator-id-6\" class=\"sk-toggleable__label sk-toggleable__label-arrow\">SVC</label><div class=\"sk-toggleable__content\"><pre>SVC(probability=True)</pre></div></div></div></div></div>"
      ],
      "text/plain": [
       "SVC(probability=True)"
      ]
     },
     "execution_count": 44,
     "metadata": {},
     "output_type": "execute_result"
    }
   ],
   "source": [
    "\n",
    "from sklearn import svm\n",
    "\n",
    "# Initialize the SVM model\n",
    "SVM = svm.SVC(probability=True)  # Set probability=True for predict_proba\n",
    "\n",
    "# Train the model using the training data\n",
    "SVM.fit(X_train, y_train)\n"
   ]
  },
  {
   "cell_type": "markdown",
   "id": "1eca60a4-d55b-41ae-9f25-46942c7845d0",
   "metadata": {},
   "source": [
    "### Q17) Now use the predict method on the testing data (x_test) and save it to the array predictions."
   ]
  },
  {
   "cell_type": "code",
   "execution_count": 45,
   "id": "03173ee1-2077-45a7-a7fe-b611f1bf48dc",
   "metadata": {},
   "outputs": [
    {
     "name": "stdout",
     "output_type": "stream",
     "text": [
      "[0 0 0 0 0 0 0 0 0 0 0 0 0 0 0 0 0 0 0 0 0 0 0 0 0 0 0 0 0 0 0 0 0 0 0 0 0\n",
      " 0 0 0 0 0 0 0 0 0 0 0 0 0 0 0 0 0 0 0 0 0 0 0 0 0 0 0 0 0 0 0 0 0 0 0 0 0\n",
      " 0 0 0 0 0 0 0 0 0 0 0 0 0 0 0 0 0 0 0 0 0 0 0 0 0 0 0 0 0 0 0 0 0 0 0 0 0\n",
      " 0 0 0 0 0 0 0 0 0 0 0 0 0 0 0 0 0 0 0 0 0 0 0 0 0 0 0 0 0 0 0 0 0 0 0 0 0\n",
      " 0 0 0 0 0 0 0 0 0 0 0 0 0 0 0 0 0 0 0 0 0 0 0 0 0 0 0 0 0 0 0 0 0 0 0 0 0\n",
      " 0 0 0 0 0 0 0 0 0 0 0 0 0 0 0 0 0 0 0 0 0 0 0 0 0 0 0 0 0 0 0 0 0 0 0 0 0\n",
      " 0 0 0 0 0 0 0 0 0 0 0 0 0 0 0 0 0 0 0 0 0 0 0 0 0 0 0 0 0 0 0 0 0 0 0 0 0\n",
      " 0 0 0 0 0 0 0 0 0 0 0 0 0 0 0 0 0 0 0 0 0 0 0 0 0 0 0 0 0 0 0 0 0 0 0 0 0\n",
      " 0 0 0 0 0 0 0 0 0 0 0 0 0 0 0 0 0 0 0 0 0 0 0 0 0 0 0 0 0 0 0 0 0 0 0 0 0\n",
      " 0 0 0 0 0 0 0 0 0 0 0 0 0 0 0 0 0 0 0 0 0 0 0 0 0 0 0 0 0 0 0 0 0 0 0 0 0\n",
      " 0 0 0 0 0 0 0 0 0 0 0 0 0 0 0 0 0 0 0 0 0 0 0 0 0 0 0 0 0 0 0 0 0 0 0 0 0\n",
      " 0 0 0 0 0 0 0 0 0 0 0 0 0 0 0 0 0 0 0 0 0 0 0 0 0 0 0 0 0 0 0 0 0 0 0 0 0\n",
      " 0 0 0 0 0 0 0 0 0 0 0 0 0 0 0 0 0 0 0 0 0 0 0 0 0 0 0 0 0 0 0 0 0 0 0 0 0\n",
      " 0 0 0 0 0 0 0 0 0 0 0 0 0 0 0 0 0 0 0 0 0 0 0 0 0 0 0 0 0 0 0 0 0 0 0 0 0\n",
      " 0 0 0 0 0 0 0 0 0 0 0 0 0 0 0 0 0 0 0 0 0 0 0 0 0 0 0 0 0 0 0 0 0 0 0 0 0\n",
      " 0 0 0 0 0 0 0 0 0 0 0 0 0 0 0 0 0 0 0 0 0 0 0 0 0 0 0 0 0 0 0 0 0 0 0 0 0\n",
      " 0 0 0 0 0 0 0 0 0 0 0 0 0 0 0 0 0 0 0 0 0 0 0 0 0 0 0 0 0 0 0 0 0 0 0 0 0\n",
      " 0 0 0 0 0 0 0 0 0 0 0 0 0 0 0 0 0 0 0 0 0 0 0 0 0 0]\n"
     ]
    }
   ],
   "source": [
    "#Enter Your Code and Execute# Use the predict method on the testing data (X_test) to make predictions\n",
    "predictions = SVM.predict(X_test)\n",
    "\n",
    "# Print the predictions\n",
    "print(predictions)\n",
    "\n"
   ]
  },
  {
   "cell_type": "markdown",
   "id": "4a39faa2-3e66-45c6-b78e-1c612002cb4f",
   "metadata": {},
   "source": [
    "### Q18) Using the predictions and the y_test dataframe calculate the value for each metric using the appropriate function."
   ]
  },
  {
   "cell_type": "code",
   "execution_count": 46,
   "id": "4b15f30e-6633-43a4-bbc0-ec4399325ce9",
   "metadata": {},
   "outputs": [
    {
     "name": "stdout",
     "output_type": "stream",
     "text": [
      "SVM Evaluation Metrics:\n",
      "SVM_Accuracy: 0.72\n",
      "SVM_Jaccard Index: 0.00\n",
      "SVM_F1-Score: 0.00\n",
      "Mean Absolute Error: 0.28\n",
      "Mean Squared Error: 0.28\n",
      "R2-Score: -0.38\n",
      "LogLoss: 0.42\n"
     ]
    }
   ],
   "source": [
    "from sklearn.metrics import (\n",
    "    accuracy_score,\n",
    "    jaccard_score,\n",
    "    f1_score,\n",
    "    log_loss,\n",
    "    mean_absolute_error,\n",
    "    mean_squared_error,\n",
    "    r2_score\n",
    ")\n",
    "\n",
    "# Calculate metrics\n",
    "accuracy = accuracy_score(y_test, predictions)\n",
    "jaccard = jaccard_score(y_test, predictions)\n",
    "f1 = f1_score(y_test, predictions)\n",
    "mae = mean_absolute_error(y_test, predictions)\n",
    "mse = mean_squared_error(y_test, predictions)\n",
    "r2 = r2_score(y_test, predictions)\n",
    "\n",
    "# For LogLoss, you need to calculate probabilities\n",
    "predict_proba = SVM.predict_proba(X_test)\n",
    "logloss = log_loss(y_test, predict_proba)\n",
    "\n",
    "# Print the results\n",
    "print(\"SVM Evaluation Metrics:\")\n",
    "print(f\"SVM_Accuracy: {accuracy:.2f}\")\n",
    "print(f\"SVM_Jaccard Index: {jaccard:.2f}\")\n",
    "print(f\"SVM_F1-Score: {f1:.2f}\")\n",
    "print(f\"Mean Absolute Error: {mae:.2f}\")\n",
    "print(f\"Mean Squared Error: {mse:.2f}\")\n",
    "print(f\"R2-Score: {r2:.2f}\")\n",
    "print(f\"LogLoss: {logloss:.2f}\")\n"
   ]
  },
  {
   "cell_type": "markdown",
   "id": "92f95db2-0c01-4422-9861-84ad643f2342",
   "metadata": {},
   "source": [
    "## Report"
   ]
  },
  {
   "cell_type": "markdown",
   "id": "c411dbce-bbdb-467b-b1e5-645ddd2361cf",
   "metadata": {},
   "source": [
    "### Q19) Show the Accuracy,Jaccard Index,F1-Score and LogLoss in a tabular format using data frame for all of the above models.\r\n",
    "*LogLoss is only for Logistic Regression Model"
   ]
  },
  {
   "cell_type": "code",
   "execution_count": 54,
   "id": "97b0fc43-b0e2-405d-acb2-99f427d7c23d",
   "metadata": {},
   "outputs": [],
   "source": [
    "import pandas as pd\n",
    "from sklearn.model_selection import train_test_split\n",
    "from sklearn.linear_model import LinearRegression, LogisticRegression\n",
    "from sklearn.neighbors import KNeighborsClassifier\n",
    "from sklearn.tree import DecisionTreeClassifier\n",
    "from sklearn import svm\n",
    "from sklearn.metrics import accuracy_score, jaccard_score, f1_score, log_loss\n",
    "\n",
    "# Load the dataset directly from the URL\n",
    "url = \"https://cf-courses-data.s3.us.cloud-object-storage.appdomain.cloud/IBMDeveloperSkillsNetwork-ML0101EN-SkillUp/labs/ML-FinalAssignment/Weather_Data.csv\"\n",
    "df = pd.read_csv(url)\n",
    "\n",
    "# Perform one-hot encoding\n",
    "df = pd.get_dummies(data=df, columns=['RainToday', 'WindGustDir', 'WindDir9am', 'WindDir3pm'])\n",
    "\n",
    "# Handle missing values\n",
    "df.fillna(df.median(numeric_only=True), inplace=True)\n",
    "df.fillna(df.mode().iloc[0], inplace=True)\n",
    "\n",
    "# Define features and target variable\n",
    "X = df.drop(columns=['RainTomorrow', 'Date'], errors='ignore')\n",
    "y = df['RainTomorrow'].map({'Yes': 1, 'No': 0})\n",
    "\n",
    "# Split the data\n",
    "X_train, X_test, y_train, y_test = train_test_split(X, y, test_size=0.2, random_state=10)\n"
   ]
  },
  {
   "cell_type": "code",
   "execution_count": 55,
   "id": "48ef1e8e-a1ac-434c-ac7f-9d9a50b3acb7",
   "metadata": {},
   "outputs": [],
   "source": [
    "#Linear Regression\n",
    "\n",
    "lin_reg = LinearRegression()\n",
    "lin_reg.fit(X_train, y_train)\n",
    "y_pred_lin_reg = lin_reg.predict(X_test)\n",
    "y_pred_lin_reg_binary = (y_pred_lin_reg >= 0.5).astype(int)\n",
    "\n",
    "accuracy_lr = accuracy_score(y_test, y_pred_lin_reg_binary)\n",
    "jaccard_lr = jaccard_score(y_test, y_pred_lin_reg_binary)\n",
    "f1_lr = f1_score(y_test, y_pred_lin_reg_binary)\n",
    "logloss_lr = \"N/A\"\n"
   ]
  },
  {
   "cell_type": "code",
   "execution_count": 56,
   "id": "da608535-9d33-4fd8-b2ce-96ecba79da61",
   "metadata": {},
   "outputs": [],
   "source": [
    "#KNN\n",
    "\n",
    "knn = KNeighborsClassifier(n_neighbors=4)\n",
    "knn.fit(X_train, y_train)\n",
    "y_pred_knn = knn.predict(X_test)\n",
    "\n",
    "accuracy_knn = accuracy_score(y_test, y_pred_knn)\n",
    "jaccard_knn = jaccard_score(y_test, y_pred_knn)\n",
    "f1_knn = f1_score(y_test, y_pred_knn)\n"
   ]
  },
  {
   "cell_type": "code",
   "execution_count": 57,
   "id": "20419db8-5e0f-49be-a18b-a9aa8888b029",
   "metadata": {},
   "outputs": [],
   "source": [
    "#Decision Tree\n",
    "\n",
    "tree = DecisionTreeClassifier()\n",
    "tree.fit(X_train, y_train)\n",
    "y_pred_tree = tree.predict(X_test)\n",
    "\n",
    "accuracy_tree = accuracy_score(y_test, y_pred_tree)\n",
    "jaccard_tree = jaccard_score(y_test, y_pred_tree)\n",
    "f1_tree = f1_score(y_test, y_pred_tree)\n"
   ]
  },
  {
   "cell_type": "code",
   "execution_count": 58,
   "id": "757e521d-6e39-4087-a1e4-ffe651b4e2b8",
   "metadata": {},
   "outputs": [],
   "source": [
    "#Logictic Regression\n",
    "\n",
    "LR = LogisticRegression(solver='liblinear')\n",
    "LR.fit(X_train, y_train)\n",
    "y_pred_lr = LR.predict(X_test)\n",
    "predict_proba_lr = LR.predict_proba(X_test)[:, 1]\n",
    "\n",
    "accuracy_lr = accuracy_score(y_test, y_pred_lr)\n",
    "jaccard_lr = jaccard_score(y_test, y_pred_lr)\n",
    "f1_lr = f1_score(y_test, y_pred_lr)\n",
    "logloss = log_loss(y_test, predict_proba_lr)\n"
   ]
  },
  {
   "cell_type": "code",
   "execution_count": 59,
   "id": "92b72770-ada0-4dfd-9291-3b6a47eef740",
   "metadata": {},
   "outputs": [],
   "source": [
    "#SVM\n",
    "\n",
    "SVM = svm.SVC()\n",
    "SVM.fit(X_train, y_train)\n",
    "y_pred_svm = SVM.predict(X_test)\n",
    "\n",
    "accuracy_svm = accuracy_score(y_test, y_pred_svm)\n",
    "jaccard_svm = jaccard_score(y_test, y_pred_svm)\n",
    "f1_svm = f1_score(y_test, y_pred_svm)\n"
   ]
  },
  {
   "cell_type": "code",
   "execution_count": 61,
   "id": "7b2b25b2-4861-4a50-a408-fef37e6a11cf",
   "metadata": {},
   "outputs": [
    {
     "name": "stdout",
     "output_type": "stream",
     "text": [
      "                 Model  Accuracy  Jaccard Index  F1-Score  LogLoss\n",
      "0    Linear Regression  0.836641       0.515837  0.680597      N/A\n",
      "1                  KNN  0.818321       0.425121  0.596610      N/A\n",
      "2        Decision Tree  0.748092       0.393382  0.564644      N/A\n",
      "3  Logistic Regression  0.836641       0.515837  0.680597  0.35718\n",
      "4                  SVM  0.719084       0.000000  0.000000      N/A\n"
     ]
    }
   ],
   "source": [
    "models_results = [\n",
    "    {\"Model\": \"Linear Regression\", \"Accuracy\": accuracy_lr, \"Jaccard Index\": jaccard_lr, \"F1-Score\": f1_lr, \"LogLoss\": logloss_lr},\n",
    "    {\"Model\": \"KNN\", \"Accuracy\": accuracy_knn, \"Jaccard Index\": jaccard_knn, \"F1-Score\": f1_knn, \"LogLoss\": \"N/A\"},\n",
    "    {\"Model\": \"Decision Tree\", \"Accuracy\": accuracy_tree, \"Jaccard Index\": jaccard_tree, \"F1-Score\": f1_tree, \"LogLoss\": \"N/A\"},\n",
    "    {\"Model\": \"Logistic Regression\", \"Accuracy\": accuracy_lr, \"Jaccard Index\": jaccard_lr, \"F1-Score\": f1_lr, \"LogLoss\": logloss},\n",
    "    {\"Model\": \"SVM\", \"Accuracy\": accuracy_svm, \"Jaccard Index\": jaccard_svm, \"F1-Score\": f1_svm, \"LogLoss\": \"N/A\"}\n",
    "]\n",
    "\n",
    "# Create a DataFrame to display the results\n",
    "results = pd.DataFrame(models_results)\n",
    "\n",
    "# Display the results\n",
    "print(results)\n"
   ]
  },
  {
   "cell_type": "code",
   "execution_count": null,
   "id": "fabddf61-41a5-4686-be32-9925da579db2",
   "metadata": {},
   "outputs": [],
   "source": []
  }
 ],
 "metadata": {
  "kernelspec": {
   "display_name": "Python 3 (ipykernel)",
   "language": "python",
   "name": "python3"
  },
  "language_info": {
   "codemirror_mode": {
    "name": "ipython",
    "version": 3
   },
   "file_extension": ".py",
   "mimetype": "text/x-python",
   "name": "python",
   "nbconvert_exporter": "python",
   "pygments_lexer": "ipython3",
   "version": "3.11.7"
  }
 },
 "nbformat": 4,
 "nbformat_minor": 5
}
